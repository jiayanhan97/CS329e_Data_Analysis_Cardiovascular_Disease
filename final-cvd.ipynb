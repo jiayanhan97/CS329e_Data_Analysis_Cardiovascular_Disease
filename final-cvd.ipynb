{
 "cells": [
  {
   "cell_type": "markdown",
   "metadata": {},
   "source": [
    "<img src=\"https://cybersecurity-excellence-awards.com/wp-content/uploads/2017/06/366812.png\">"
   ]
  },
  {
   "cell_type": "markdown",
   "metadata": {},
   "source": [
    "<h1><center>Darwin Supervised Classification Model Building </center></h1>"
   ]
  },
  {
   "cell_type": "markdown",
   "metadata": {},
   "source": [
    "# Prior to getting started:"
   ]
  },
  {
   "cell_type": "markdown",
   "metadata": {},
   "source": [
    "First, \n",
    "<br>if you have just received a new api key from support, you will need to register your key and create a new user (see Register user cell)\n",
    "\n",
    "Second, in the Environment Variables cell: \n",
    "1. Set your username and password to ensure that you're able to log in successfully\n",
    "2. Set the path to the location of your datasets if you are using your own data.  The path is set for the examples.\n",
    "3. Set the dataset names accordingly\n",
    "\n",
    "Here are a few things to be mindful of:\n",
    "1. For every run, check the job status (i.e. requested, failed, running, completed) and wait for job to complete before proceeding. \n",
    "2. If you're not satisfied with your model and think that Darwin can benefit from extra training, use the resume function."
   ]
  },
  {
   "cell_type": "markdown",
   "metadata": {},
   "source": [
    "## Set Darwin SDK"
   ]
  },
  {
   "cell_type": "code",
   "execution_count": 1,
   "metadata": {},
   "outputs": [
    {
     "data": {
      "text/plain": [
       "(True, 'https://amb-demo-api.sparkcognition.com/v1/')"
      ]
     },
     "execution_count": 1,
     "metadata": {},
     "output_type": "execute_result"
    }
   ],
   "source": [
    "from amb_sdk.sdk import DarwinSdk\n",
    "ds = DarwinSdk()\n",
    "ds.set_url('https://amb-demo-api.sparkcognition.com/v1/')"
   ]
  },
  {
   "cell_type": "markdown",
   "metadata": {},
   "source": [
    "## Register user (if needed, read above)"
   ]
  },
  {
   "cell_type": "code",
   "execution_count": 2,
   "metadata": {},
   "outputs": [
    {
     "name": "stdout",
     "output_type": "stream",
     "text": [
      "403: FORBIDDEN - {\"message\": \"You have exceeded your user limit\"}\n",
      "\n"
     ]
    }
   ],
   "source": [
    "# Use only if you have a new api-key and \n",
    "# no registered users - fill in the appropriate fields then execute\n",
    "\n",
    "#Enter your support provided api key and api key password below to register/create new users\n",
    "api_key = 'yuboszhz@outlook.com'\n",
    "api_key_pw = 'dU9HY2Wdxb'\n",
    "status, msg = ds.auth_login_user(api_key,api_key_pw)\n",
    "if not status:\n",
    "    print(msg)\n",
    "\n",
    "\n",
    "#Create a new user\n",
    "status, msg = ds.auth_register_user('username', 'password','email@emailaddress.com')\n",
    "if not status:\n",
    "    print(msg)\n",
    "\n"
   ]
  },
  {
   "cell_type": "code",
   "execution_count": null,
   "metadata": {},
   "outputs": [],
   "source": [
    "#Set your user id and password accordingly\n",
    "USER=\"YU; BO\"\n",
    "PW=\"dU9HY2Wdxb\"\n",
    "\n",
    "# A timestamp is used to create a unique name in the event you execute the workflow multiple times or with \n",
    "# different datasets.  File names must be unique in Darwin.\n",
    "import datetime\n",
    "ts = '{:%Y%m%d%H%M%S}'.format(datetime.datetime.now())"
   ]
  },
  {
   "cell_type": "markdown",
   "metadata": {},
   "source": [
    "## Import necessary libraries"
   ]
  },
  {
   "cell_type": "code",
   "execution_count": 26,
   "metadata": {
    "scrolled": true
   },
   "outputs": [],
   "source": [
    "# Import necessary libraries\n",
    "%matplotlib inline\n",
    "import matplotlib.pyplot as plt\n",
    "import pandas as pd\n",
    "from IPython.display import Image\n",
    "from time import sleep\n",
    "import os\n",
    "import numpy as np\n",
    "from sklearn.metrics import classification_report\n",
    "from sklearn.utils import resample\n",
    "from sklearn.model_selection import train_test_split"
   ]
  },
  {
   "cell_type": "markdown",
   "metadata": {},
   "source": [
    "## Feature Engineering"
   ]
  },
  {
   "cell_type": "code",
   "execution_count": 8,
   "metadata": {},
   "outputs": [],
   "source": [
    "# Set path to datasets - The default below assumes Jupyter was started from amb-sdk/examples/Enterprise/ \n",
    "# from the file darwin provided\n",
    "# Modify accordingly if the csv file is not found\n",
    "\n",
    "PATH_TO_DATASET='../../sets/'\n",
    "Data='SH baseline dataset_dataverse.csv'\n",
    "TRAIN_DATASET='#####'\n",
    "TEST_DATASET='####'"
   ]
  },
  {
   "cell_type": "code",
   "execution_count": 14,
   "metadata": {},
   "outputs": [
    {
     "data": {
      "text/html": [
       "<div>\n",
       "<style scoped>\n",
       "    .dataframe tbody tr th:only-of-type {\n",
       "        vertical-align: middle;\n",
       "    }\n",
       "\n",
       "    .dataframe tbody tr th {\n",
       "        vertical-align: top;\n",
       "    }\n",
       "\n",
       "    .dataframe thead th {\n",
       "        text-align: right;\n",
       "    }\n",
       "</style>\n",
       "<table border=\"1\" class=\"dataframe\">\n",
       "  <thead>\n",
       "    <tr style=\"text-align: right;\">\n",
       "      <th></th>\n",
       "      <th>patient_id</th>\n",
       "      <th>age</th>\n",
       "      <th>sex</th>\n",
       "      <th>education</th>\n",
       "      <th>marital_status</th>\n",
       "      <th>occupation</th>\n",
       "      <th>sbp_avg</th>\n",
       "      <th>dbp_avg</th>\n",
       "      <th>bg_mgdl</th>\n",
       "      <th>bmi</th>\n",
       "      <th>smoking</th>\n",
       "      <th>village</th>\n",
       "      <th>areas</th>\n",
       "      <th>cvdrisk</th>\n",
       "      <th>highrisk</th>\n",
       "      <th>bplt</th>\n",
       "      <th>lltt</th>\n",
       "      <th>aptt</th>\n",
       "    </tr>\n",
       "  </thead>\n",
       "  <tbody>\n",
       "    <tr>\n",
       "      <th>0</th>\n",
       "      <td>7.709001e+09</td>\n",
       "      <td>65</td>\n",
       "      <td>Female</td>\n",
       "      <td>primary</td>\n",
       "      <td>married</td>\n",
       "      <td>self-employed</td>\n",
       "      <td>140.5</td>\n",
       "      <td>78.5</td>\n",
       "      <td>156.0</td>\n",
       "      <td>18.90204</td>\n",
       "      <td>nonsmoker</td>\n",
       "      <td>sepanjang</td>\n",
       "      <td>rural</td>\n",
       "      <td>&lt;10%</td>\n",
       "      <td>No</td>\n",
       "      <td>No</td>\n",
       "      <td>No</td>\n",
       "      <td>No</td>\n",
       "    </tr>\n",
       "    <tr>\n",
       "      <th>1</th>\n",
       "      <td>7.709001e+09</td>\n",
       "      <td>60</td>\n",
       "      <td>Male</td>\n",
       "      <td>primary</td>\n",
       "      <td>married</td>\n",
       "      <td>self-employed</td>\n",
       "      <td>156.0</td>\n",
       "      <td>108.5</td>\n",
       "      <td>113.0</td>\n",
       "      <td>25.47666</td>\n",
       "      <td>smoker</td>\n",
       "      <td>sepanjang</td>\n",
       "      <td>rural</td>\n",
       "      <td>clinicall high risk</td>\n",
       "      <td>Yes</td>\n",
       "      <td>No</td>\n",
       "      <td>No</td>\n",
       "      <td>No</td>\n",
       "    </tr>\n",
       "    <tr>\n",
       "      <th>2</th>\n",
       "      <td>8.005070e+09</td>\n",
       "      <td>87</td>\n",
       "      <td>Male</td>\n",
       "      <td>primary</td>\n",
       "      <td>married</td>\n",
       "      <td>not working</td>\n",
       "      <td>153.5</td>\n",
       "      <td>77.0</td>\n",
       "      <td>91.0</td>\n",
       "      <td>NaN</td>\n",
       "      <td>pastsmoker</td>\n",
       "      <td>majangtengah</td>\n",
       "      <td>rural</td>\n",
       "      <td>20-30%</td>\n",
       "      <td>Yes</td>\n",
       "      <td>No</td>\n",
       "      <td>No</td>\n",
       "      <td>No</td>\n",
       "    </tr>\n",
       "    <tr>\n",
       "      <th>3</th>\n",
       "      <td>8.005070e+09</td>\n",
       "      <td>82</td>\n",
       "      <td>Female</td>\n",
       "      <td>primary</td>\n",
       "      <td>married</td>\n",
       "      <td>not working</td>\n",
       "      <td>152.0</td>\n",
       "      <td>76.0</td>\n",
       "      <td>114.0</td>\n",
       "      <td>23.89138</td>\n",
       "      <td>nonsmoker</td>\n",
       "      <td>majangtengah</td>\n",
       "      <td>rural</td>\n",
       "      <td>20-30%</td>\n",
       "      <td>Yes</td>\n",
       "      <td>No</td>\n",
       "      <td>No</td>\n",
       "      <td>No</td>\n",
       "    </tr>\n",
       "    <tr>\n",
       "      <th>4</th>\n",
       "      <td>8.005070e+09</td>\n",
       "      <td>55</td>\n",
       "      <td>Female</td>\n",
       "      <td>primary</td>\n",
       "      <td>widowed</td>\n",
       "      <td>casual worker</td>\n",
       "      <td>179.0</td>\n",
       "      <td>94.0</td>\n",
       "      <td>130.0</td>\n",
       "      <td>29.48870</td>\n",
       "      <td>nonsmoker</td>\n",
       "      <td>majangtengah</td>\n",
       "      <td>rural</td>\n",
       "      <td>clinicall high risk</td>\n",
       "      <td>Yes</td>\n",
       "      <td>No</td>\n",
       "      <td>No</td>\n",
       "      <td>No</td>\n",
       "    </tr>\n",
       "  </tbody>\n",
       "</table>\n",
       "</div>"
      ],
      "text/plain": [
       "     patient_id  age     sex education marital_status     occupation  sbp_avg  \\\n",
       "0  7.709001e+09   65  Female   primary        married  self-employed    140.5   \n",
       "1  7.709001e+09   60    Male   primary        married  self-employed    156.0   \n",
       "2  8.005070e+09   87    Male   primary        married    not working    153.5   \n",
       "3  8.005070e+09   82  Female   primary        married    not working    152.0   \n",
       "4  8.005070e+09   55  Female   primary        widowed  casual worker    179.0   \n",
       "\n",
       "   dbp_avg  bg_mgdl       bmi     smoking       village  areas  \\\n",
       "0     78.5    156.0  18.90204   nonsmoker     sepanjang  rural   \n",
       "1    108.5    113.0  25.47666      smoker     sepanjang  rural   \n",
       "2     77.0     91.0       NaN  pastsmoker  majangtengah  rural   \n",
       "3     76.0    114.0  23.89138   nonsmoker  majangtengah  rural   \n",
       "4     94.0    130.0  29.48870   nonsmoker  majangtengah  rural   \n",
       "\n",
       "               cvdrisk highrisk bplt lltt aptt  \n",
       "0                 <10%       No   No   No   No  \n",
       "1  clinicall high risk      Yes   No   No   No  \n",
       "2               20-30%      Yes   No   No   No  \n",
       "3               20-30%      Yes   No   No   No  \n",
       "4  clinicall high risk      Yes   No   No   No  "
      ]
     },
     "execution_count": 14,
     "metadata": {},
     "output_type": "execute_result"
    }
   ],
   "source": [
    "df = pd.read_csv(os.path.join(PATH_TO_DATASET, Data))\n",
    "df.head()"
   ]
  },
  {
   "cell_type": "code",
   "execution_count": 16,
   "metadata": {},
   "outputs": [
    {
     "data": {
      "text/html": [
       "<div>\n",
       "<style scoped>\n",
       "    .dataframe tbody tr th:only-of-type {\n",
       "        vertical-align: middle;\n",
       "    }\n",
       "\n",
       "    .dataframe tbody tr th {\n",
       "        vertical-align: top;\n",
       "    }\n",
       "\n",
       "    .dataframe thead th {\n",
       "        text-align: right;\n",
       "    }\n",
       "</style>\n",
       "<table border=\"1\" class=\"dataframe\">\n",
       "  <thead>\n",
       "    <tr style=\"text-align: right;\">\n",
       "      <th></th>\n",
       "      <th>age</th>\n",
       "      <th>sex</th>\n",
       "      <th>education</th>\n",
       "      <th>marital_status</th>\n",
       "      <th>occupation</th>\n",
       "      <th>sbp_avg</th>\n",
       "      <th>dbp_avg</th>\n",
       "      <th>bg_mgdl</th>\n",
       "      <th>bmi</th>\n",
       "      <th>smoking</th>\n",
       "      <th>village</th>\n",
       "      <th>areas</th>\n",
       "      <th>highrisk</th>\n",
       "    </tr>\n",
       "  </thead>\n",
       "  <tbody>\n",
       "    <tr>\n",
       "      <th>0</th>\n",
       "      <td>65</td>\n",
       "      <td>Female</td>\n",
       "      <td>primary</td>\n",
       "      <td>married</td>\n",
       "      <td>self-employed</td>\n",
       "      <td>140.5</td>\n",
       "      <td>78.5</td>\n",
       "      <td>156.0</td>\n",
       "      <td>18.90204</td>\n",
       "      <td>nonsmoker</td>\n",
       "      <td>sepanjang</td>\n",
       "      <td>rural</td>\n",
       "      <td>No</td>\n",
       "    </tr>\n",
       "    <tr>\n",
       "      <th>1</th>\n",
       "      <td>60</td>\n",
       "      <td>Male</td>\n",
       "      <td>primary</td>\n",
       "      <td>married</td>\n",
       "      <td>self-employed</td>\n",
       "      <td>156.0</td>\n",
       "      <td>108.5</td>\n",
       "      <td>113.0</td>\n",
       "      <td>25.47666</td>\n",
       "      <td>smoker</td>\n",
       "      <td>sepanjang</td>\n",
       "      <td>rural</td>\n",
       "      <td>Yes</td>\n",
       "    </tr>\n",
       "    <tr>\n",
       "      <th>2</th>\n",
       "      <td>87</td>\n",
       "      <td>Male</td>\n",
       "      <td>primary</td>\n",
       "      <td>married</td>\n",
       "      <td>not working</td>\n",
       "      <td>153.5</td>\n",
       "      <td>77.0</td>\n",
       "      <td>91.0</td>\n",
       "      <td>NaN</td>\n",
       "      <td>pastsmoker</td>\n",
       "      <td>majangtengah</td>\n",
       "      <td>rural</td>\n",
       "      <td>Yes</td>\n",
       "    </tr>\n",
       "    <tr>\n",
       "      <th>3</th>\n",
       "      <td>82</td>\n",
       "      <td>Female</td>\n",
       "      <td>primary</td>\n",
       "      <td>married</td>\n",
       "      <td>not working</td>\n",
       "      <td>152.0</td>\n",
       "      <td>76.0</td>\n",
       "      <td>114.0</td>\n",
       "      <td>23.89138</td>\n",
       "      <td>nonsmoker</td>\n",
       "      <td>majangtengah</td>\n",
       "      <td>rural</td>\n",
       "      <td>Yes</td>\n",
       "    </tr>\n",
       "    <tr>\n",
       "      <th>4</th>\n",
       "      <td>55</td>\n",
       "      <td>Female</td>\n",
       "      <td>primary</td>\n",
       "      <td>widowed</td>\n",
       "      <td>casual worker</td>\n",
       "      <td>179.0</td>\n",
       "      <td>94.0</td>\n",
       "      <td>130.0</td>\n",
       "      <td>29.48870</td>\n",
       "      <td>nonsmoker</td>\n",
       "      <td>majangtengah</td>\n",
       "      <td>rural</td>\n",
       "      <td>Yes</td>\n",
       "    </tr>\n",
       "  </tbody>\n",
       "</table>\n",
       "</div>"
      ],
      "text/plain": [
       "   age     sex education marital_status     occupation  sbp_avg  dbp_avg  \\\n",
       "0   65  Female   primary        married  self-employed    140.5     78.5   \n",
       "1   60    Male   primary        married  self-employed    156.0    108.5   \n",
       "2   87    Male   primary        married    not working    153.5     77.0   \n",
       "3   82  Female   primary        married    not working    152.0     76.0   \n",
       "4   55  Female   primary        widowed  casual worker    179.0     94.0   \n",
       "\n",
       "   bg_mgdl       bmi     smoking       village  areas highrisk  \n",
       "0    156.0  18.90204   nonsmoker     sepanjang  rural       No  \n",
       "1    113.0  25.47666      smoker     sepanjang  rural      Yes  \n",
       "2     91.0       NaN  pastsmoker  majangtengah  rural      Yes  \n",
       "3    114.0  23.89138   nonsmoker  majangtengah  rural      Yes  \n",
       "4    130.0  29.48870   nonsmoker  majangtengah  rural      Yes  "
      ]
     },
     "execution_count": 16,
     "metadata": {},
     "output_type": "execute_result"
    }
   ],
   "source": [
    "#drop columns\n",
    "df_alldata=df.drop(['patient_id'],axis=1)\n",
    "df_alldata=df_alldata.drop(['bplt'],axis=1)\n",
    "df_alldata=df_alldata.drop(['lltt'],axis=1)\n",
    "df_alldata=df_alldata.drop(['aptt'],axis=1)\n",
    "df_alldata=df_alldata.drop(['cvdrisk'],axis=1)\n",
    "df_alldata.head()\n"
   ]
  },
  {
   "cell_type": "code",
   "execution_count": 38,
   "metadata": {},
   "outputs": [],
   "source": [
    "# Separate majority and minority classes\n",
    "df_alldata_majority = df_alldata[df_alldata.highrisk==\"No\"]\n",
    "df_alldata_minority = df_alldata[df_alldata.highrisk==\"Yes\"]"
   ]
  },
  {
   "cell_type": "code",
   "execution_count": 39,
   "metadata": {},
   "outputs": [
    {
     "data": {
      "text/plain": [
       "No     6500\n",
       "Yes    6453\n",
       "Name: highrisk, dtype: int64"
      ]
     },
     "execution_count": 39,
     "metadata": {},
     "output_type": "execute_result"
    }
   ],
   "source": [
    "# Downsample majority class\n",
    "df_alldata_majority_downsampled = resample(df_alldata_majority, \n",
    "                                 replace=False,    # sample without replacement\n",
    "                                 n_samples=6500) # reproducible results\n",
    "# Combine minority class with downsampled majority class\n",
    "df_alldata_downsampled = pd.concat([df_alldata_majority_downsampled, df_alldata_minority])\n",
    "# Display new class counts\n",
    "df_alldata_downsampled.highrisk.value_counts()"
   ]
  },
  {
   "cell_type": "code",
   "execution_count": 44,
   "metadata": {},
   "outputs": [
    {
     "name": "stdout",
     "output_type": "stream",
     "text": [
      "(10362, 13)\n",
      "(2591, 13)\n"
     ]
    }
   ],
   "source": [
    "all_train, all_test = train_test_split(df_alldata_downsampled, test_size=0.20)\n",
    "print(all_train.shape)\n",
    "print(all_test.shape)"
   ]
  },
  {
   "cell_type": "code",
   "execution_count": 41,
   "metadata": {},
   "outputs": [
    {
     "data": {
      "text/html": [
       "<div>\n",
       "<style scoped>\n",
       "    .dataframe tbody tr th:only-of-type {\n",
       "        vertical-align: middle;\n",
       "    }\n",
       "\n",
       "    .dataframe tbody tr th {\n",
       "        vertical-align: top;\n",
       "    }\n",
       "\n",
       "    .dataframe thead th {\n",
       "        text-align: right;\n",
       "    }\n",
       "</style>\n",
       "<table border=\"1\" class=\"dataframe\">\n",
       "  <thead>\n",
       "    <tr style=\"text-align: right;\">\n",
       "      <th></th>\n",
       "      <th>age</th>\n",
       "      <th>sex</th>\n",
       "      <th>education</th>\n",
       "      <th>marital_status</th>\n",
       "      <th>occupation</th>\n",
       "      <th>bg_mgdl</th>\n",
       "      <th>bmi</th>\n",
       "      <th>smoking</th>\n",
       "      <th>village</th>\n",
       "      <th>areas</th>\n",
       "      <th>highrisk</th>\n",
       "    </tr>\n",
       "  </thead>\n",
       "  <tbody>\n",
       "    <tr>\n",
       "      <th>0</th>\n",
       "      <td>65</td>\n",
       "      <td>Female</td>\n",
       "      <td>primary</td>\n",
       "      <td>married</td>\n",
       "      <td>self-employed</td>\n",
       "      <td>156.0</td>\n",
       "      <td>18.90204</td>\n",
       "      <td>nonsmoker</td>\n",
       "      <td>sepanjang</td>\n",
       "      <td>rural</td>\n",
       "      <td>No</td>\n",
       "    </tr>\n",
       "    <tr>\n",
       "      <th>1</th>\n",
       "      <td>60</td>\n",
       "      <td>Male</td>\n",
       "      <td>primary</td>\n",
       "      <td>married</td>\n",
       "      <td>self-employed</td>\n",
       "      <td>113.0</td>\n",
       "      <td>25.47666</td>\n",
       "      <td>smoker</td>\n",
       "      <td>sepanjang</td>\n",
       "      <td>rural</td>\n",
       "      <td>Yes</td>\n",
       "    </tr>\n",
       "    <tr>\n",
       "      <th>2</th>\n",
       "      <td>87</td>\n",
       "      <td>Male</td>\n",
       "      <td>primary</td>\n",
       "      <td>married</td>\n",
       "      <td>not working</td>\n",
       "      <td>91.0</td>\n",
       "      <td>NaN</td>\n",
       "      <td>pastsmoker</td>\n",
       "      <td>majangtengah</td>\n",
       "      <td>rural</td>\n",
       "      <td>Yes</td>\n",
       "    </tr>\n",
       "    <tr>\n",
       "      <th>3</th>\n",
       "      <td>82</td>\n",
       "      <td>Female</td>\n",
       "      <td>primary</td>\n",
       "      <td>married</td>\n",
       "      <td>not working</td>\n",
       "      <td>114.0</td>\n",
       "      <td>23.89138</td>\n",
       "      <td>nonsmoker</td>\n",
       "      <td>majangtengah</td>\n",
       "      <td>rural</td>\n",
       "      <td>Yes</td>\n",
       "    </tr>\n",
       "    <tr>\n",
       "      <th>4</th>\n",
       "      <td>55</td>\n",
       "      <td>Female</td>\n",
       "      <td>primary</td>\n",
       "      <td>widowed</td>\n",
       "      <td>casual worker</td>\n",
       "      <td>130.0</td>\n",
       "      <td>29.48870</td>\n",
       "      <td>nonsmoker</td>\n",
       "      <td>majangtengah</td>\n",
       "      <td>rural</td>\n",
       "      <td>Yes</td>\n",
       "    </tr>\n",
       "  </tbody>\n",
       "</table>\n",
       "</div>"
      ],
      "text/plain": [
       "   age     sex education marital_status     occupation  bg_mgdl       bmi  \\\n",
       "0   65  Female   primary        married  self-employed    156.0  18.90204   \n",
       "1   60    Male   primary        married  self-employed    113.0  25.47666   \n",
       "2   87    Male   primary        married    not working     91.0       NaN   \n",
       "3   82  Female   primary        married    not working    114.0  23.89138   \n",
       "4   55  Female   primary        widowed  casual worker    130.0  29.48870   \n",
       "\n",
       "      smoking       village  areas highrisk  \n",
       "0   nonsmoker     sepanjang  rural       No  \n",
       "1      smoker     sepanjang  rural      Yes  \n",
       "2  pastsmoker  majangtengah  rural      Yes  \n",
       "3   nonsmoker  majangtengah  rural      Yes  \n",
       "4   nonsmoker  majangtengah  rural      Yes  "
      ]
     },
     "execution_count": 41,
     "metadata": {},
     "output_type": "execute_result"
    }
   ],
   "source": [
    "df_nobp=df.drop(['patient_id'],axis=1)\n",
    "df_nobp=df_nobp.drop(['bplt'],axis=1)\n",
    "df_nobp=df_nobp.drop(['lltt'],axis=1)\n",
    "df_nobp=df_nobp.drop(['aptt'],axis=1)\n",
    "df_nobp=df_nobp.drop(['sbp_avg'],axis=1)\n",
    "df_nobp=df_nobp.drop(['dbp_avg'],axis=1)\n",
    "df_nobp=df_nobp.drop(['cvdrisk'],axis=1)\n",
    "df_alldata.head()\n",
    "df_nobp.head()"
   ]
  },
  {
   "cell_type": "code",
   "execution_count": 42,
   "metadata": {},
   "outputs": [],
   "source": [
    "# Separate majority and minority classes\n",
    "df_nobp_majority = df_nobp[df_nobp.highrisk==\"No\"]\n",
    "df_nobp_minority = df_nobp[df_nobp.highrisk==\"Yes\"]"
   ]
  },
  {
   "cell_type": "code",
   "execution_count": 43,
   "metadata": {},
   "outputs": [
    {
     "data": {
      "text/plain": [
       "No     6500\n",
       "Yes    6453\n",
       "Name: highrisk, dtype: int64"
      ]
     },
     "execution_count": 43,
     "metadata": {},
     "output_type": "execute_result"
    }
   ],
   "source": [
    "# Downsample majority class\n",
    "df_nobp_majority_downsampled = resample(df_nobp_majority, \n",
    "                                 replace=False,    # sample without replacement\n",
    "                                 n_samples=6500) # reproducible results\n",
    "# Combine minority class with downsampled majority class\n",
    "df_nobp_downsampled = pd.concat([df_nobp_majority_downsampled, df_nobp_minority])\n",
    "# Display new class counts\n",
    "df_nobp_downsampled.highrisk.value_counts()"
   ]
  },
  {
   "cell_type": "code",
   "execution_count": 76,
   "metadata": {},
   "outputs": [
    {
     "name": "stdout",
     "output_type": "stream",
     "text": [
      "(10362, 11)\n",
      "(2591, 11)\n"
     ]
    },
    {
     "data": {
      "text/html": [
       "<div>\n",
       "<style scoped>\n",
       "    .dataframe tbody tr th:only-of-type {\n",
       "        vertical-align: middle;\n",
       "    }\n",
       "\n",
       "    .dataframe tbody tr th {\n",
       "        vertical-align: top;\n",
       "    }\n",
       "\n",
       "    .dataframe thead th {\n",
       "        text-align: right;\n",
       "    }\n",
       "</style>\n",
       "<table border=\"1\" class=\"dataframe\">\n",
       "  <thead>\n",
       "    <tr style=\"text-align: right;\">\n",
       "      <th></th>\n",
       "      <th>age</th>\n",
       "      <th>sex</th>\n",
       "      <th>education</th>\n",
       "      <th>marital_status</th>\n",
       "      <th>occupation</th>\n",
       "      <th>bg_mgdl</th>\n",
       "      <th>bmi</th>\n",
       "      <th>smoking</th>\n",
       "      <th>village</th>\n",
       "      <th>areas</th>\n",
       "      <th>highrisk</th>\n",
       "    </tr>\n",
       "  </thead>\n",
       "  <tbody>\n",
       "    <tr>\n",
       "      <th>5016</th>\n",
       "      <td>51</td>\n",
       "      <td>Female</td>\n",
       "      <td>secondary</td>\n",
       "      <td>married</td>\n",
       "      <td>self-employed</td>\n",
       "      <td>135.0</td>\n",
       "      <td>31.59626</td>\n",
       "      <td>nonsmoker</td>\n",
       "      <td>cepokomulyo</td>\n",
       "      <td>urban</td>\n",
       "      <td>Yes</td>\n",
       "    </tr>\n",
       "    <tr>\n",
       "      <th>21842</th>\n",
       "      <td>45</td>\n",
       "      <td>Female</td>\n",
       "      <td>secondary</td>\n",
       "      <td>married</td>\n",
       "      <td>self-employed</td>\n",
       "      <td>47.0</td>\n",
       "      <td>27.29322</td>\n",
       "      <td>nonsmoker</td>\n",
       "      <td>kendalpayak</td>\n",
       "      <td>urban</td>\n",
       "      <td>No</td>\n",
       "    </tr>\n",
       "    <tr>\n",
       "      <th>13212</th>\n",
       "      <td>51</td>\n",
       "      <td>Male</td>\n",
       "      <td>primary</td>\n",
       "      <td>married</td>\n",
       "      <td>casual worker</td>\n",
       "      <td>91.0</td>\n",
       "      <td>21.04805</td>\n",
       "      <td>smoker</td>\n",
       "      <td>sepanjang</td>\n",
       "      <td>rural</td>\n",
       "      <td>No</td>\n",
       "    </tr>\n",
       "    <tr>\n",
       "      <th>11446</th>\n",
       "      <td>43</td>\n",
       "      <td>Male</td>\n",
       "      <td>primary</td>\n",
       "      <td>married</td>\n",
       "      <td>self-employed</td>\n",
       "      <td>104.0</td>\n",
       "      <td>26.85441</td>\n",
       "      <td>smoker</td>\n",
       "      <td>majangtengah</td>\n",
       "      <td>rural</td>\n",
       "      <td>Yes</td>\n",
       "    </tr>\n",
       "    <tr>\n",
       "      <th>3747</th>\n",
       "      <td>67</td>\n",
       "      <td>Male</td>\n",
       "      <td>primary</td>\n",
       "      <td>single</td>\n",
       "      <td>casual worker</td>\n",
       "      <td>122.0</td>\n",
       "      <td>23.55556</td>\n",
       "      <td>nonsmoker</td>\n",
       "      <td>cepokomulyo</td>\n",
       "      <td>urban</td>\n",
       "      <td>Yes</td>\n",
       "    </tr>\n",
       "  </tbody>\n",
       "</table>\n",
       "</div>"
      ],
      "text/plain": [
       "       age     sex  education marital_status     occupation  bg_mgdl  \\\n",
       "5016    51  Female  secondary        married  self-employed    135.0   \n",
       "21842   45  Female  secondary        married  self-employed     47.0   \n",
       "13212   51    Male    primary        married  casual worker     91.0   \n",
       "11446   43    Male    primary        married  self-employed    104.0   \n",
       "3747    67    Male    primary         single  casual worker    122.0   \n",
       "\n",
       "            bmi    smoking       village  areas highrisk  \n",
       "5016   31.59626  nonsmoker   cepokomulyo  urban      Yes  \n",
       "21842  27.29322  nonsmoker   kendalpayak  urban       No  \n",
       "13212  21.04805     smoker     sepanjang  rural       No  \n",
       "11446  26.85441     smoker  majangtengah  rural      Yes  \n",
       "3747   23.55556  nonsmoker   cepokomulyo  urban      Yes  "
      ]
     },
     "execution_count": 76,
     "metadata": {},
     "output_type": "execute_result"
    }
   ],
   "source": [
    "nobp_train, nobp_test = train_test_split(df_nobp_downsampled, test_size=0.20)\n",
    "print(nobp_train.shape)\n",
    "print(nobp_test.shape)\n",
    "nobp_train.head()"
   ]
  },
  {
   "cell_type": "code",
   "execution_count": 47,
   "metadata": {},
   "outputs": [],
   "source": [
    "#path is current directory\n",
    "path = '../../sets/'\n",
    "filename = \"all_train.csv\"\n",
    "all_train.to_csv(os.path.join(path, filename))"
   ]
  },
  {
   "cell_type": "code",
   "execution_count": 48,
   "metadata": {},
   "outputs": [],
   "source": [
    "path = '../../sets/'\n",
    "filename = \"all_test.csv\"\n",
    "all_test.to_csv(os.path.join(path, filename))"
   ]
  },
  {
   "cell_type": "code",
   "execution_count": 49,
   "metadata": {},
   "outputs": [],
   "source": [
    "#path is current directory\n",
    "path = '../../sets/'\n",
    "filename = \"nobp_train.csv\"\n",
    "nobp_train.to_csv(os.path.join(path, filename))"
   ]
  },
  {
   "cell_type": "code",
   "execution_count": 50,
   "metadata": {},
   "outputs": [],
   "source": [
    "path = '../../sets/'\n",
    "filename = \"nobp_test.csv\"\n",
    "nobp_test.to_csv(os.path.join(path, filename))"
   ]
  },
  {
   "cell_type": "markdown",
   "metadata": {},
   "source": [
    "# User Login "
   ]
  },
  {
   "cell_type": "code",
   "execution_count": 51,
   "metadata": {},
   "outputs": [],
   "source": [
    "status, msg = ds.auth_login_user(USER,PW)\n",
    "if not status:\n",
    "    print(msg)"
   ]
  },
  {
   "cell_type": "code",
   "execution_count": null,
   "metadata": {},
   "outputs": [],
   "source": []
  },
  {
   "cell_type": "markdown",
   "metadata": {},
   "source": [
    "# MODEL1: Data Upload and Clean"
   ]
  },
  {
   "cell_type": "markdown",
   "metadata": {},
   "source": [
    "**Read dataset and view a file snippet**"
   ]
  },
  {
   "cell_type": "code",
   "execution_count": 52,
   "metadata": {
    "scrolled": true
   },
   "outputs": [
    {
     "data": {
      "text/html": [
       "<div>\n",
       "<style scoped>\n",
       "    .dataframe tbody tr th:only-of-type {\n",
       "        vertical-align: middle;\n",
       "    }\n",
       "\n",
       "    .dataframe tbody tr th {\n",
       "        vertical-align: top;\n",
       "    }\n",
       "\n",
       "    .dataframe thead th {\n",
       "        text-align: right;\n",
       "    }\n",
       "</style>\n",
       "<table border=\"1\" class=\"dataframe\">\n",
       "  <thead>\n",
       "    <tr style=\"text-align: right;\">\n",
       "      <th></th>\n",
       "      <th>Unnamed: 0</th>\n",
       "      <th>age</th>\n",
       "      <th>sex</th>\n",
       "      <th>education</th>\n",
       "      <th>marital_status</th>\n",
       "      <th>occupation</th>\n",
       "      <th>sbp_avg</th>\n",
       "      <th>dbp_avg</th>\n",
       "      <th>bg_mgdl</th>\n",
       "      <th>bmi</th>\n",
       "      <th>smoking</th>\n",
       "      <th>village</th>\n",
       "      <th>areas</th>\n",
       "      <th>highrisk</th>\n",
       "    </tr>\n",
       "  </thead>\n",
       "  <tbody>\n",
       "    <tr>\n",
       "      <th>0</th>\n",
       "      <td>2443</td>\n",
       "      <td>48</td>\n",
       "      <td>Female</td>\n",
       "      <td>primary</td>\n",
       "      <td>married</td>\n",
       "      <td>private worker</td>\n",
       "      <td>122.0</td>\n",
       "      <td>84.5</td>\n",
       "      <td>128.0</td>\n",
       "      <td>35.37981</td>\n",
       "      <td>nonsmoker</td>\n",
       "      <td>mendalanwangi</td>\n",
       "      <td>semiurban</td>\n",
       "      <td>No</td>\n",
       "    </tr>\n",
       "    <tr>\n",
       "      <th>1</th>\n",
       "      <td>9616</td>\n",
       "      <td>67</td>\n",
       "      <td>Female</td>\n",
       "      <td>primary</td>\n",
       "      <td>widowed</td>\n",
       "      <td>casual worker</td>\n",
       "      <td>165.0</td>\n",
       "      <td>96.0</td>\n",
       "      <td>88.0</td>\n",
       "      <td>24.19649</td>\n",
       "      <td>nonsmoker</td>\n",
       "      <td>majangtengah</td>\n",
       "      <td>rural</td>\n",
       "      <td>Yes</td>\n",
       "    </tr>\n",
       "    <tr>\n",
       "      <th>2</th>\n",
       "      <td>7721</td>\n",
       "      <td>64</td>\n",
       "      <td>Male</td>\n",
       "      <td>secondary</td>\n",
       "      <td>married</td>\n",
       "      <td>self-employed</td>\n",
       "      <td>170.0</td>\n",
       "      <td>99.5</td>\n",
       "      <td>265.0</td>\n",
       "      <td>28.35539</td>\n",
       "      <td>nonsmoker</td>\n",
       "      <td>kepanjen</td>\n",
       "      <td>urban</td>\n",
       "      <td>Yes</td>\n",
       "    </tr>\n",
       "    <tr>\n",
       "      <th>3</th>\n",
       "      <td>20436</td>\n",
       "      <td>47</td>\n",
       "      <td>Female</td>\n",
       "      <td>primary</td>\n",
       "      <td>married</td>\n",
       "      <td>not working</td>\n",
       "      <td>160.5</td>\n",
       "      <td>116.0</td>\n",
       "      <td>121.0</td>\n",
       "      <td>21.90758</td>\n",
       "      <td>nonsmoker</td>\n",
       "      <td>cepokomulyo</td>\n",
       "      <td>urban</td>\n",
       "      <td>Yes</td>\n",
       "    </tr>\n",
       "    <tr>\n",
       "      <th>4</th>\n",
       "      <td>3390</td>\n",
       "      <td>47</td>\n",
       "      <td>Female</td>\n",
       "      <td>primary</td>\n",
       "      <td>married</td>\n",
       "      <td>casual worker</td>\n",
       "      <td>151.0</td>\n",
       "      <td>91.5</td>\n",
       "      <td>138.0</td>\n",
       "      <td>27.55556</td>\n",
       "      <td>nonsmoker</td>\n",
       "      <td>mendalanwangi</td>\n",
       "      <td>semiurban</td>\n",
       "      <td>No</td>\n",
       "    </tr>\n",
       "  </tbody>\n",
       "</table>\n",
       "</div>"
      ],
      "text/plain": [
       "   Unnamed: 0  age     sex  education marital_status      occupation  sbp_avg  \\\n",
       "0        2443   48  Female    primary        married  private worker    122.0   \n",
       "1        9616   67  Female    primary        widowed   casual worker    165.0   \n",
       "2        7721   64    Male  secondary        married   self-employed    170.0   \n",
       "3       20436   47  Female    primary        married     not working    160.5   \n",
       "4        3390   47  Female    primary        married   casual worker    151.0   \n",
       "\n",
       "   dbp_avg  bg_mgdl       bmi    smoking        village      areas highrisk  \n",
       "0     84.5    128.0  35.37981  nonsmoker  mendalanwangi  semiurban       No  \n",
       "1     96.0     88.0  24.19649  nonsmoker   majangtengah      rural      Yes  \n",
       "2     99.5    265.0  28.35539  nonsmoker       kepanjen      urban      Yes  \n",
       "3    116.0    121.0  21.90758  nonsmoker    cepokomulyo      urban      Yes  \n",
       "4     91.5    138.0  27.55556  nonsmoker  mendalanwangi  semiurban       No  "
      ]
     },
     "execution_count": 52,
     "metadata": {},
     "output_type": "execute_result"
    }
   ],
   "source": [
    "# Preview dataset\n",
    "df = pd.read_csv(os.path.join(PATH_TO_DATASET, \"all_train.csv\"))\n",
    "df.head()"
   ]
  },
  {
   "cell_type": "markdown",
   "metadata": {},
   "source": [
    "**Upload dataset to Darwin**"
   ]
  },
  {
   "cell_type": "code",
   "execution_count": 53,
   "metadata": {
    "scrolled": true
   },
   "outputs": [],
   "source": [
    "# Upload dataset\n",
    "status, dataset = ds.upload_dataset(os.path.join(PATH_TO_DATASET, \"all_train.csv\"))\n",
    "if not status:\n",
    "    print(dataset)"
   ]
  },
  {
   "cell_type": "markdown",
   "metadata": {},
   "source": [
    "**Clean dataset**"
   ]
  },
  {
   "cell_type": "code",
   "execution_count": 54,
   "metadata": {},
   "outputs": [
    {
     "name": "stdout",
     "output_type": "stream",
     "text": [
      "{'status': 'Requested', 'starttime': '2019-04-17T16:42:00.840001', 'endtime': None, 'percent_complete': 0, 'job_type': 'CleanDataTiny', 'loss': None, 'generations': None, 'dataset_names': ['all_train.csv'], 'artifact_names': ['\"all_train_clean'], 'model_name': None, 'job_error': None}\n",
      "{'status': 'Failed', 'starttime': '2019-04-17T16:42:00.840001', 'endtime': '2019-04-17T16:42:10.500412', 'percent_complete': 100, 'job_type': 'CleanDataTiny', 'loss': None, 'generations': None, 'dataset_names': ['all_train.csv'], 'artifact_names': ['\"all_train_clean'], 'model_name': None, 'job_error': 'DarwinInternalErroruncaught'}\n"
     ]
    }
   ],
   "source": [
    "# clean dataset\n",
    "target = \"highrisk\"\n",
    "status, job_id = ds.clean_data(\"all_train.csv\", target = target, artifact_name = '\"all_train_clean')\n",
    "\n",
    "if status:\n",
    "    ds.wait_for_job(job_id['job_name'])\n",
    "else:\n",
    "    print(job_id)\n",
    "#ds.lookup_artifact_name()\n",
    "#ds.download_dataset('SHclean_data',artifact_path='../../sets/')\n"
   ]
  },
  {
   "cell_type": "code",
   "execution_count": null,
   "metadata": {},
   "outputs": [],
   "source": []
  },
  {
   "cell_type": "markdown",
   "metadata": {},
   "source": [
    "# MODEL1: Create and Train Model "
   ]
  },
  {
   "cell_type": "markdown",
   "metadata": {},
   "source": [
    "We will now build a model that will learn the class labels in the target column.<br> In the default cancer dataset, the target column is \"Diagnosis\". <br> You will have to specify your own target name for your custom dataset. <br> You can also increase max_train_time for longer training.\n"
   ]
  },
  {
   "cell_type": "code",
   "execution_count": 55,
   "metadata": {
    "scrolled": true
   },
   "outputs": [
    {
     "name": "stdout",
     "output_type": "stream",
     "text": [
      "{'status': 'Taken', 'starttime': '2019-04-17T16:42:46.81503', 'endtime': None, 'percent_complete': 0, 'job_type': 'TrainModel', 'loss': None, 'generations': 0, 'dataset_names': ['all_train.csv'], 'artifact_names': None, 'model_name': 'highriskalldatamodel20190417160239', 'job_error': None}\n",
      "{'status': 'Running', 'starttime': '2019-04-17T16:42:46.81503', 'endtime': None, 'percent_complete': 4, 'job_type': 'TrainModel', 'loss': 0.39123573899269104, 'generations': 2, 'dataset_names': ['all_train.csv'], 'artifact_names': None, 'model_name': 'highriskalldatamodel20190417160239', 'job_error': ''}\n",
      "{'status': 'Running', 'starttime': '2019-04-17T16:42:46.81503', 'endtime': None, 'percent_complete': 4, 'job_type': 'TrainModel', 'loss': 0.39123573899269104, 'generations': 2, 'dataset_names': ['all_train.csv'], 'artifact_names': None, 'model_name': 'highriskalldatamodel20190417160239', 'job_error': ''}\n",
      "{'status': 'Running', 'starttime': '2019-04-17T16:42:46.81503', 'endtime': None, 'percent_complete': 4, 'job_type': 'TrainModel', 'loss': 0.39123573899269104, 'generations': 2, 'dataset_names': ['all_train.csv'], 'artifact_names': None, 'model_name': 'highriskalldatamodel20190417160239', 'job_error': ''}\n",
      "{'status': 'Running', 'starttime': '2019-04-17T16:42:46.81503', 'endtime': None, 'percent_complete': 4, 'job_type': 'TrainModel', 'loss': 0.39123573899269104, 'generations': 2, 'dataset_names': ['all_train.csv'], 'artifact_names': None, 'model_name': 'highriskalldatamodel20190417160239', 'job_error': ''}\n",
      "{'status': 'Running', 'starttime': '2019-04-17T16:42:46.81503', 'endtime': None, 'percent_complete': 4, 'job_type': 'TrainModel', 'loss': 0.39123573899269104, 'generations': 2, 'dataset_names': ['all_train.csv'], 'artifact_names': None, 'model_name': 'highriskalldatamodel20190417160239', 'job_error': ''}\n",
      "{'status': 'Running', 'starttime': '2019-04-17T16:42:46.81503', 'endtime': None, 'percent_complete': 4, 'job_type': 'TrainModel', 'loss': 0.39123573899269104, 'generations': 2, 'dataset_names': ['all_train.csv'], 'artifact_names': None, 'model_name': 'highriskalldatamodel20190417160239', 'job_error': ''}\n",
      "{'status': 'Running', 'starttime': '2019-04-17T16:42:46.81503', 'endtime': None, 'percent_complete': 4, 'job_type': 'TrainModel', 'loss': 0.39123573899269104, 'generations': 2, 'dataset_names': ['all_train.csv'], 'artifact_names': None, 'model_name': 'highriskalldatamodel20190417160239', 'job_error': ''}\n",
      "{'status': 'Running', 'starttime': '2019-04-17T16:42:46.81503', 'endtime': None, 'percent_complete': 4, 'job_type': 'TrainModel', 'loss': 0.39123573899269104, 'generations': 2, 'dataset_names': ['all_train.csv'], 'artifact_names': None, 'model_name': 'highriskalldatamodel20190417160239', 'job_error': ''}\n",
      "{'status': 'Complete', 'starttime': '2019-04-17T16:42:46.81503', 'endtime': '2019-04-17T16:44:52.519028', 'percent_complete': 100, 'job_type': 'TrainModel', 'loss': 0.39123573899269104, 'generations': 2, 'dataset_names': ['all_train.csv'], 'artifact_names': None, 'model_name': 'highriskalldatamodel20190417160239', 'job_error': ''}\n"
     ]
    }
   ],
   "source": [
    "model = target + \"alldatamodel\" + ts\n",
    "status, job_id = ds.create_model(dataset_names = \"all_train.csv\", \\\n",
    "                                 model_name =  model, \\\n",
    "                                 max_train_time = '00:02')\n",
    "if status:\n",
    "    ds.wait_for_job(job_id['job_name'])\n",
    "else:\n",
    "    print(job_id)"
   ]
  },
  {
   "cell_type": "markdown",
   "metadata": {},
   "source": [
    "# MODEL1: Extra Training (Optional)\n",
    "Run the following cell for extra training, no need to specify parameters"
   ]
  },
  {
   "cell_type": "code",
   "execution_count": 56,
   "metadata": {},
   "outputs": [
    {
     "name": "stdout",
     "output_type": "stream",
     "text": [
      "{'status': 'Requested', 'starttime': '2019-04-17T16:45:36.054497', 'endtime': None, 'percent_complete': 0, 'job_type': 'UpdateModel', 'loss': 0.39123573899269104, 'generations': 2, 'dataset_names': ['all_train.csv'], 'artifact_names': None, 'model_name': 'highriskalldatamodel20190417160239', 'job_error': None}\n",
      "{'status': 'Running', 'starttime': '2019-04-17T16:45:36.054497', 'endtime': None, 'percent_complete': 2, 'job_type': 'UpdateModel', 'loss': 0.39123573899269104, 'generations': 5, 'dataset_names': ['all_train.csv'], 'artifact_names': None, 'model_name': 'highriskalldatamodel20190417160239', 'job_error': ''}\n",
      "{'status': 'Running', 'starttime': '2019-04-17T16:45:36.054497', 'endtime': None, 'percent_complete': 2, 'job_type': 'UpdateModel', 'loss': 0.39123573899269104, 'generations': 5, 'dataset_names': ['all_train.csv'], 'artifact_names': None, 'model_name': 'highriskalldatamodel20190417160239', 'job_error': ''}\n",
      "{'status': 'Running', 'starttime': '2019-04-17T16:45:36.054497', 'endtime': None, 'percent_complete': 2, 'job_type': 'UpdateModel', 'loss': 0.39123573899269104, 'generations': 5, 'dataset_names': ['all_train.csv'], 'artifact_names': None, 'model_name': 'highriskalldatamodel20190417160239', 'job_error': ''}\n",
      "{'status': 'Running', 'starttime': '2019-04-17T16:45:36.054497', 'endtime': None, 'percent_complete': 2, 'job_type': 'UpdateModel', 'loss': 0.39123573899269104, 'generations': 5, 'dataset_names': ['all_train.csv'], 'artifact_names': None, 'model_name': 'highriskalldatamodel20190417160239', 'job_error': ''}\n",
      "{'status': 'Running', 'starttime': '2019-04-17T16:45:36.054497', 'endtime': None, 'percent_complete': 2, 'job_type': 'UpdateModel', 'loss': 0.39123573899269104, 'generations': 5, 'dataset_names': ['all_train.csv'], 'artifact_names': None, 'model_name': 'highriskalldatamodel20190417160239', 'job_error': ''}\n",
      "{'status': 'Running', 'starttime': '2019-04-17T16:45:36.054497', 'endtime': None, 'percent_complete': 2, 'job_type': 'UpdateModel', 'loss': 0.39123573899269104, 'generations': 5, 'dataset_names': ['all_train.csv'], 'artifact_names': None, 'model_name': 'highriskalldatamodel20190417160239', 'job_error': ''}\n",
      "{'status': 'Running', 'starttime': '2019-04-17T16:45:36.054497', 'endtime': None, 'percent_complete': 2, 'job_type': 'UpdateModel', 'loss': 0.39123573899269104, 'generations': 5, 'dataset_names': ['all_train.csv'], 'artifact_names': None, 'model_name': 'highriskalldatamodel20190417160239', 'job_error': ''}\n",
      "{'status': 'Running', 'starttime': '2019-04-17T16:45:36.054497', 'endtime': None, 'percent_complete': 2, 'job_type': 'UpdateModel', 'loss': 0.39123573899269104, 'generations': 5, 'dataset_names': ['all_train.csv'], 'artifact_names': None, 'model_name': 'highriskalldatamodel20190417160239', 'job_error': ''}\n",
      "{'status': 'Complete', 'starttime': '2019-04-17T16:45:36.054497', 'endtime': '2019-04-17T16:47:42.655039', 'percent_complete': 100, 'job_type': 'UpdateModel', 'loss': 0.39123573899269104, 'generations': 5, 'dataset_names': ['all_train.csv'], 'artifact_names': None, 'model_name': 'highriskalldatamodel20190417160239', 'job_error': ''}\n"
     ]
    }
   ],
   "source": [
    "# Train some more\n",
    "status, job_id = ds.resume_training_model(dataset_names = \"all_train.csv\",\n",
    "                                          model_name = model,\n",
    "                                          max_train_time = '00:02')\n",
    "                                          \n",
    "if status:\n",
    "    ds.wait_for_job(job_id['job_name'])\n",
    "else:\n",
    "    print(job_id)"
   ]
  },
  {
   "cell_type": "markdown",
   "metadata": {},
   "source": [
    "# MODEL1: Analyze Model\n",
    "Analyze model provides feature importance ranked by the model. <br> It indicates a general view of which features pose a bigger impact on the model"
   ]
  },
  {
   "cell_type": "code",
   "execution_count": 57,
   "metadata": {
    "scrolled": false
   },
   "outputs": [
    {
     "name": "stdout",
     "output_type": "stream",
     "text": [
      "{'status': 'Running', 'starttime': '2019-04-17T16:48:20.846816', 'endtime': None, 'percent_complete': 0, 'job_type': 'AnalyzeModel', 'loss': 0.39123573899269104, 'generations': 5, 'dataset_names': None, 'artifact_names': ['7ea3f28f0d754c408bedceb6e7af0a3f'], 'model_name': 'highriskalldatamodel20190417160239', 'job_error': ''}\n",
      "{'status': 'Complete', 'starttime': '2019-04-17T16:48:20.846816', 'endtime': '2019-04-17T16:48:29.687284', 'percent_complete': 100, 'job_type': 'AnalyzeModel', 'loss': 0.39123573899269104, 'generations': 5, 'dataset_names': None, 'artifact_names': ['7ea3f28f0d754c408bedceb6e7af0a3f'], 'model_name': 'highriskalldatamodel20190417160239', 'job_error': ''}\n"
     ]
    }
   ],
   "source": [
    "# Retrieve feature importance of built model\n",
    "status, artifact = ds.analyze_model(model)\n",
    "sleep(1)\n",
    "if status:\n",
    "    ds.wait_for_job(artifact['job_name'])\n",
    "else:\n",
    "    print(artifact)\n",
    "status, feature_importance = ds.download_artifact(artifact['artifact_name'])"
   ]
  },
  {
   "cell_type": "markdown",
   "metadata": {},
   "source": [
    "Show the 10 most important features of the model."
   ]
  },
  {
   "cell_type": "code",
   "execution_count": 58,
   "metadata": {},
   "outputs": [
    {
     "data": {
      "text/plain": [
       "sbp_avg                     0.489324\n",
       "dbp_avg                     0.361685\n",
       "age                         0.042768\n",
       "bmi                         0.023314\n",
       "bg_mgdl                     0.021612\n",
       "Unnamed: 0                  0.014487\n",
       "smoking = pastsmoker        0.007452\n",
       "occupation = not working    0.005183\n",
       "smoking = smoker            0.005128\n",
       "marital_status = widowed    0.003244\n",
       "dtype: float64"
      ]
     },
     "execution_count": 58,
     "metadata": {},
     "output_type": "execute_result"
    }
   ],
   "source": [
    "feature_importance[:10]"
   ]
  },
  {
   "cell_type": "markdown",
   "metadata": {},
   "source": [
    "# MODEL1: Predictions\n",
    "**Perform model prediction on the the training dataset.**"
   ]
  },
  {
   "cell_type": "code",
   "execution_count": 60,
   "metadata": {
    "scrolled": true
   },
   "outputs": [
    {
     "name": "stdout",
     "output_type": "stream",
     "text": [
      "{'status': 'Running', 'starttime': '2019-04-17T16:50:39.647619', 'endtime': None, 'percent_complete': 0, 'job_type': 'RunModel', 'loss': 0.39123573899269104, 'generations': 5, 'dataset_names': ['all_train.csv'], 'artifact_names': ['2257a4a7e4ca46db82cfbefe27d8b654'], 'model_name': 'highriskalldatamodel20190417160239', 'job_error': ''}\n",
      "{'status': 'Complete', 'starttime': '2019-04-17T16:50:39.647619', 'endtime': '2019-04-17T16:50:41.019771', 'percent_complete': 100, 'job_type': 'RunModel', 'loss': 0.39123573899269104, 'generations': 5, 'dataset_names': ['all_train.csv'], 'artifact_names': ['2257a4a7e4ca46db82cfbefe27d8b654'], 'model_name': 'highriskalldatamodel20190417160239', 'job_error': ''}\n"
     ]
    },
    {
     "data": {
      "text/plain": [
       "(True, 'Job completed')"
      ]
     },
     "execution_count": 60,
     "metadata": {},
     "output_type": "execute_result"
    }
   ],
   "source": [
    "status, artifact = ds.run_model(\"all_train.csv\", model)\n",
    "sleep(1)\n",
    "ds.wait_for_job(artifact['job_name'])"
   ]
  },
  {
   "cell_type": "markdown",
   "metadata": {},
   "source": [
    "Download predictions from Darwin's server."
   ]
  },
  {
   "cell_type": "code",
   "execution_count": 61,
   "metadata": {
    "scrolled": true
   },
   "outputs": [
    {
     "data": {
      "text/html": [
       "<div>\n",
       "<style scoped>\n",
       "    .dataframe tbody tr th:only-of-type {\n",
       "        vertical-align: middle;\n",
       "    }\n",
       "\n",
       "    .dataframe tbody tr th {\n",
       "        vertical-align: top;\n",
       "    }\n",
       "\n",
       "    .dataframe thead th {\n",
       "        text-align: right;\n",
       "    }\n",
       "</style>\n",
       "<table border=\"1\" class=\"dataframe\">\n",
       "  <thead>\n",
       "    <tr style=\"text-align: right;\">\n",
       "      <th></th>\n",
       "      <th>highrisk</th>\n",
       "      <th>prob_No</th>\n",
       "      <th>prob_Yes</th>\n",
       "    </tr>\n",
       "  </thead>\n",
       "  <tbody>\n",
       "    <tr>\n",
       "      <th>0</th>\n",
       "      <td>No</td>\n",
       "      <td>0.973421</td>\n",
       "      <td>0.026579</td>\n",
       "    </tr>\n",
       "    <tr>\n",
       "      <th>1</th>\n",
       "      <td>Yes</td>\n",
       "      <td>0.002804</td>\n",
       "      <td>0.997196</td>\n",
       "    </tr>\n",
       "    <tr>\n",
       "      <th>2</th>\n",
       "      <td>Yes</td>\n",
       "      <td>0.001104</td>\n",
       "      <td>0.998896</td>\n",
       "    </tr>\n",
       "    <tr>\n",
       "      <th>3</th>\n",
       "      <td>Yes</td>\n",
       "      <td>0.000270</td>\n",
       "      <td>0.999730</td>\n",
       "    </tr>\n",
       "    <tr>\n",
       "      <th>4</th>\n",
       "      <td>No</td>\n",
       "      <td>0.910431</td>\n",
       "      <td>0.089569</td>\n",
       "    </tr>\n",
       "    <tr>\n",
       "      <th>5</th>\n",
       "      <td>No</td>\n",
       "      <td>0.935018</td>\n",
       "      <td>0.064982</td>\n",
       "    </tr>\n",
       "    <tr>\n",
       "      <th>6</th>\n",
       "      <td>No</td>\n",
       "      <td>0.805830</td>\n",
       "      <td>0.194170</td>\n",
       "    </tr>\n",
       "    <tr>\n",
       "      <th>7</th>\n",
       "      <td>No</td>\n",
       "      <td>0.833743</td>\n",
       "      <td>0.166257</td>\n",
       "    </tr>\n",
       "    <tr>\n",
       "      <th>8</th>\n",
       "      <td>Yes</td>\n",
       "      <td>0.002626</td>\n",
       "      <td>0.997374</td>\n",
       "    </tr>\n",
       "    <tr>\n",
       "      <th>9</th>\n",
       "      <td>Yes</td>\n",
       "      <td>0.000209</td>\n",
       "      <td>0.999791</td>\n",
       "    </tr>\n",
       "    <tr>\n",
       "      <th>10</th>\n",
       "      <td>No</td>\n",
       "      <td>0.671929</td>\n",
       "      <td>0.328071</td>\n",
       "    </tr>\n",
       "    <tr>\n",
       "      <th>11</th>\n",
       "      <td>No</td>\n",
       "      <td>0.871293</td>\n",
       "      <td>0.128707</td>\n",
       "    </tr>\n",
       "    <tr>\n",
       "      <th>12</th>\n",
       "      <td>No</td>\n",
       "      <td>0.978574</td>\n",
       "      <td>0.021426</td>\n",
       "    </tr>\n",
       "    <tr>\n",
       "      <th>13</th>\n",
       "      <td>No</td>\n",
       "      <td>0.941092</td>\n",
       "      <td>0.058908</td>\n",
       "    </tr>\n",
       "    <tr>\n",
       "      <th>14</th>\n",
       "      <td>Yes</td>\n",
       "      <td>0.001871</td>\n",
       "      <td>0.998129</td>\n",
       "    </tr>\n",
       "    <tr>\n",
       "      <th>15</th>\n",
       "      <td>No</td>\n",
       "      <td>0.945964</td>\n",
       "      <td>0.054036</td>\n",
       "    </tr>\n",
       "    <tr>\n",
       "      <th>16</th>\n",
       "      <td>Yes</td>\n",
       "      <td>0.001870</td>\n",
       "      <td>0.998130</td>\n",
       "    </tr>\n",
       "    <tr>\n",
       "      <th>17</th>\n",
       "      <td>Yes</td>\n",
       "      <td>0.003746</td>\n",
       "      <td>0.996254</td>\n",
       "    </tr>\n",
       "    <tr>\n",
       "      <th>18</th>\n",
       "      <td>No</td>\n",
       "      <td>0.986059</td>\n",
       "      <td>0.013941</td>\n",
       "    </tr>\n",
       "    <tr>\n",
       "      <th>19</th>\n",
       "      <td>No</td>\n",
       "      <td>0.587866</td>\n",
       "      <td>0.412134</td>\n",
       "    </tr>\n",
       "    <tr>\n",
       "      <th>20</th>\n",
       "      <td>Yes</td>\n",
       "      <td>0.002074</td>\n",
       "      <td>0.997926</td>\n",
       "    </tr>\n",
       "    <tr>\n",
       "      <th>21</th>\n",
       "      <td>Yes</td>\n",
       "      <td>0.001507</td>\n",
       "      <td>0.998493</td>\n",
       "    </tr>\n",
       "    <tr>\n",
       "      <th>22</th>\n",
       "      <td>No</td>\n",
       "      <td>0.963157</td>\n",
       "      <td>0.036843</td>\n",
       "    </tr>\n",
       "    <tr>\n",
       "      <th>23</th>\n",
       "      <td>Yes</td>\n",
       "      <td>0.001622</td>\n",
       "      <td>0.998378</td>\n",
       "    </tr>\n",
       "    <tr>\n",
       "      <th>24</th>\n",
       "      <td>Yes</td>\n",
       "      <td>0.002473</td>\n",
       "      <td>0.997527</td>\n",
       "    </tr>\n",
       "    <tr>\n",
       "      <th>25</th>\n",
       "      <td>No</td>\n",
       "      <td>0.537135</td>\n",
       "      <td>0.462865</td>\n",
       "    </tr>\n",
       "    <tr>\n",
       "      <th>26</th>\n",
       "      <td>Yes</td>\n",
       "      <td>0.001663</td>\n",
       "      <td>0.998337</td>\n",
       "    </tr>\n",
       "    <tr>\n",
       "      <th>27</th>\n",
       "      <td>No</td>\n",
       "      <td>0.940878</td>\n",
       "      <td>0.059122</td>\n",
       "    </tr>\n",
       "    <tr>\n",
       "      <th>28</th>\n",
       "      <td>Yes</td>\n",
       "      <td>0.000146</td>\n",
       "      <td>0.999854</td>\n",
       "    </tr>\n",
       "    <tr>\n",
       "      <th>29</th>\n",
       "      <td>No</td>\n",
       "      <td>0.980671</td>\n",
       "      <td>0.019329</td>\n",
       "    </tr>\n",
       "    <tr>\n",
       "      <th>...</th>\n",
       "      <td>...</td>\n",
       "      <td>...</td>\n",
       "      <td>...</td>\n",
       "    </tr>\n",
       "    <tr>\n",
       "      <th>70</th>\n",
       "      <td>Yes</td>\n",
       "      <td>0.000263</td>\n",
       "      <td>0.999737</td>\n",
       "    </tr>\n",
       "    <tr>\n",
       "      <th>71</th>\n",
       "      <td>No</td>\n",
       "      <td>0.706667</td>\n",
       "      <td>0.293333</td>\n",
       "    </tr>\n",
       "    <tr>\n",
       "      <th>72</th>\n",
       "      <td>Yes</td>\n",
       "      <td>0.002284</td>\n",
       "      <td>0.997716</td>\n",
       "    </tr>\n",
       "    <tr>\n",
       "      <th>73</th>\n",
       "      <td>Yes</td>\n",
       "      <td>0.004326</td>\n",
       "      <td>0.995674</td>\n",
       "    </tr>\n",
       "    <tr>\n",
       "      <th>74</th>\n",
       "      <td>Yes</td>\n",
       "      <td>0.000238</td>\n",
       "      <td>0.999762</td>\n",
       "    </tr>\n",
       "    <tr>\n",
       "      <th>75</th>\n",
       "      <td>No</td>\n",
       "      <td>0.794842</td>\n",
       "      <td>0.205158</td>\n",
       "    </tr>\n",
       "    <tr>\n",
       "      <th>76</th>\n",
       "      <td>No</td>\n",
       "      <td>0.825925</td>\n",
       "      <td>0.174075</td>\n",
       "    </tr>\n",
       "    <tr>\n",
       "      <th>77</th>\n",
       "      <td>Yes</td>\n",
       "      <td>0.000255</td>\n",
       "      <td>0.999745</td>\n",
       "    </tr>\n",
       "    <tr>\n",
       "      <th>78</th>\n",
       "      <td>No</td>\n",
       "      <td>0.952505</td>\n",
       "      <td>0.047495</td>\n",
       "    </tr>\n",
       "    <tr>\n",
       "      <th>79</th>\n",
       "      <td>No</td>\n",
       "      <td>0.938435</td>\n",
       "      <td>0.061565</td>\n",
       "    </tr>\n",
       "    <tr>\n",
       "      <th>80</th>\n",
       "      <td>No</td>\n",
       "      <td>0.897276</td>\n",
       "      <td>0.102724</td>\n",
       "    </tr>\n",
       "    <tr>\n",
       "      <th>81</th>\n",
       "      <td>Yes</td>\n",
       "      <td>0.002160</td>\n",
       "      <td>0.997840</td>\n",
       "    </tr>\n",
       "    <tr>\n",
       "      <th>82</th>\n",
       "      <td>No</td>\n",
       "      <td>0.878042</td>\n",
       "      <td>0.121958</td>\n",
       "    </tr>\n",
       "    <tr>\n",
       "      <th>83</th>\n",
       "      <td>No</td>\n",
       "      <td>0.799074</td>\n",
       "      <td>0.200926</td>\n",
       "    </tr>\n",
       "    <tr>\n",
       "      <th>84</th>\n",
       "      <td>Yes</td>\n",
       "      <td>0.002237</td>\n",
       "      <td>0.997763</td>\n",
       "    </tr>\n",
       "    <tr>\n",
       "      <th>85</th>\n",
       "      <td>Yes</td>\n",
       "      <td>0.001717</td>\n",
       "      <td>0.998283</td>\n",
       "    </tr>\n",
       "    <tr>\n",
       "      <th>86</th>\n",
       "      <td>No</td>\n",
       "      <td>0.987771</td>\n",
       "      <td>0.012229</td>\n",
       "    </tr>\n",
       "    <tr>\n",
       "      <th>87</th>\n",
       "      <td>Yes</td>\n",
       "      <td>0.000205</td>\n",
       "      <td>0.999795</td>\n",
       "    </tr>\n",
       "    <tr>\n",
       "      <th>88</th>\n",
       "      <td>No</td>\n",
       "      <td>0.733239</td>\n",
       "      <td>0.266761</td>\n",
       "    </tr>\n",
       "    <tr>\n",
       "      <th>89</th>\n",
       "      <td>Yes</td>\n",
       "      <td>0.001679</td>\n",
       "      <td>0.998321</td>\n",
       "    </tr>\n",
       "    <tr>\n",
       "      <th>90</th>\n",
       "      <td>No</td>\n",
       "      <td>0.935018</td>\n",
       "      <td>0.064982</td>\n",
       "    </tr>\n",
       "    <tr>\n",
       "      <th>91</th>\n",
       "      <td>Yes</td>\n",
       "      <td>0.000203</td>\n",
       "      <td>0.999797</td>\n",
       "    </tr>\n",
       "    <tr>\n",
       "      <th>92</th>\n",
       "      <td>Yes</td>\n",
       "      <td>0.004446</td>\n",
       "      <td>0.995554</td>\n",
       "    </tr>\n",
       "    <tr>\n",
       "      <th>93</th>\n",
       "      <td>No</td>\n",
       "      <td>0.955922</td>\n",
       "      <td>0.044078</td>\n",
       "    </tr>\n",
       "    <tr>\n",
       "      <th>94</th>\n",
       "      <td>No</td>\n",
       "      <td>0.961065</td>\n",
       "      <td>0.038935</td>\n",
       "    </tr>\n",
       "    <tr>\n",
       "      <th>95</th>\n",
       "      <td>No</td>\n",
       "      <td>0.861420</td>\n",
       "      <td>0.138580</td>\n",
       "    </tr>\n",
       "    <tr>\n",
       "      <th>96</th>\n",
       "      <td>No</td>\n",
       "      <td>0.982321</td>\n",
       "      <td>0.017679</td>\n",
       "    </tr>\n",
       "    <tr>\n",
       "      <th>97</th>\n",
       "      <td>No</td>\n",
       "      <td>0.868161</td>\n",
       "      <td>0.131839</td>\n",
       "    </tr>\n",
       "    <tr>\n",
       "      <th>98</th>\n",
       "      <td>No</td>\n",
       "      <td>0.920191</td>\n",
       "      <td>0.079809</td>\n",
       "    </tr>\n",
       "    <tr>\n",
       "      <th>99</th>\n",
       "      <td>No</td>\n",
       "      <td>0.935008</td>\n",
       "      <td>0.064992</td>\n",
       "    </tr>\n",
       "  </tbody>\n",
       "</table>\n",
       "<p>100 rows × 3 columns</p>\n",
       "</div>"
      ],
      "text/plain": [
       "   highrisk   prob_No  prob_Yes\n",
       "0        No  0.973421  0.026579\n",
       "1       Yes  0.002804  0.997196\n",
       "2       Yes  0.001104  0.998896\n",
       "3       Yes  0.000270  0.999730\n",
       "4        No  0.910431  0.089569\n",
       "5        No  0.935018  0.064982\n",
       "6        No  0.805830  0.194170\n",
       "7        No  0.833743  0.166257\n",
       "8       Yes  0.002626  0.997374\n",
       "9       Yes  0.000209  0.999791\n",
       "10       No  0.671929  0.328071\n",
       "11       No  0.871293  0.128707\n",
       "12       No  0.978574  0.021426\n",
       "13       No  0.941092  0.058908\n",
       "14      Yes  0.001871  0.998129\n",
       "15       No  0.945964  0.054036\n",
       "16      Yes  0.001870  0.998130\n",
       "17      Yes  0.003746  0.996254\n",
       "18       No  0.986059  0.013941\n",
       "19       No  0.587866  0.412134\n",
       "20      Yes  0.002074  0.997926\n",
       "21      Yes  0.001507  0.998493\n",
       "22       No  0.963157  0.036843\n",
       "23      Yes  0.001622  0.998378\n",
       "24      Yes  0.002473  0.997527\n",
       "25       No  0.537135  0.462865\n",
       "26      Yes  0.001663  0.998337\n",
       "27       No  0.940878  0.059122\n",
       "28      Yes  0.000146  0.999854\n",
       "29       No  0.980671  0.019329\n",
       "..      ...       ...       ...\n",
       "70      Yes  0.000263  0.999737\n",
       "71       No  0.706667  0.293333\n",
       "72      Yes  0.002284  0.997716\n",
       "73      Yes  0.004326  0.995674\n",
       "74      Yes  0.000238  0.999762\n",
       "75       No  0.794842  0.205158\n",
       "76       No  0.825925  0.174075\n",
       "77      Yes  0.000255  0.999745\n",
       "78       No  0.952505  0.047495\n",
       "79       No  0.938435  0.061565\n",
       "80       No  0.897276  0.102724\n",
       "81      Yes  0.002160  0.997840\n",
       "82       No  0.878042  0.121958\n",
       "83       No  0.799074  0.200926\n",
       "84      Yes  0.002237  0.997763\n",
       "85      Yes  0.001717  0.998283\n",
       "86       No  0.987771  0.012229\n",
       "87      Yes  0.000205  0.999795\n",
       "88       No  0.733239  0.266761\n",
       "89      Yes  0.001679  0.998321\n",
       "90       No  0.935018  0.064982\n",
       "91      Yes  0.000203  0.999797\n",
       "92      Yes  0.004446  0.995554\n",
       "93       No  0.955922  0.044078\n",
       "94       No  0.961065  0.038935\n",
       "95       No  0.861420  0.138580\n",
       "96       No  0.982321  0.017679\n",
       "97       No  0.868161  0.131839\n",
       "98       No  0.920191  0.079809\n",
       "99       No  0.935008  0.064992\n",
       "\n",
       "[100 rows x 3 columns]"
      ]
     },
     "execution_count": 61,
     "metadata": {},
     "output_type": "execute_result"
    }
   ],
   "source": [
    "status, prediction = ds.download_artifact(artifact['artifact_name'])\n",
    "prediction.head(100)"
   ]
  },
  {
   "cell_type": "markdown",
   "metadata": {},
   "source": [
    "Create plots comparing predictions with actual target"
   ]
  },
  {
   "cell_type": "code",
   "execution_count": 62,
   "metadata": {
    "scrolled": true
   },
   "outputs": [
    {
     "name": "stdout",
     "output_type": "stream",
     "text": [
      "             precision    recall  f1-score   support\n",
      "\n",
      "         No       0.90      0.99      0.94      5207\n",
      "        Yes       0.99      0.88      0.93      5155\n",
      "\n",
      "avg / total       0.94      0.94      0.94     10362\n",
      "\n"
     ]
    },
    {
     "data": {
      "image/png": "[encoded data removed]",
      "text/plain": [
       "<Figure size 432x288 with 1 Axes>"
      ]
     },
     "metadata": {},
     "output_type": "display_data"
    }
   ],
   "source": [
    "unq = prediction[target].unique()[::-1]\n",
    "p = np.zeros((len(prediction),))\n",
    "a = np.zeros((len(prediction),))\n",
    "for i,q in enumerate(unq):\n",
    "    p += i*(prediction[target] == q).values\n",
    "    a += i*(df[target] == q).values\n",
    "#Plot predictions vs actual\n",
    "plt.plot(a)\n",
    "plt.plot(p)\n",
    "plt.legend(['Actual','Predicted'])\n",
    "plt.yticks([i for i in range(len(unq))],[q for q in unq]);\n",
    "print(classification_report(df[target], prediction[target]))"
   ]
  },
  {
   "cell_type": "markdown",
   "metadata": {},
   "source": [
    "**Perform model prediction on a test dataset that wasn't used in training.** <br>\n",
    "Upload test dataset"
   ]
  },
  {
   "cell_type": "code",
   "execution_count": 63,
   "metadata": {
    "scrolled": true
   },
   "outputs": [],
   "source": [
    "status, dataset = ds.upload_dataset(os.path.join(PATH_TO_DATASET, \"all_test.csv\"))\n",
    "if not status:\n",
    "    print(dataset)"
   ]
  },
  {
   "cell_type": "markdown",
   "metadata": {},
   "source": [
    "Clean test dataset"
   ]
  },
  {
   "cell_type": "code",
   "execution_count": 64,
   "metadata": {},
   "outputs": [
    {
     "name": "stdout",
     "output_type": "stream",
     "text": [
      "{'status': 'Requested', 'starttime': '2019-04-17T16:53:20.696965', 'endtime': None, 'percent_complete': 0, 'job_type': 'CleanDataTiny', 'loss': None, 'generations': None, 'dataset_names': ['all_test.csv'], 'artifact_names': ['1a0810e8304d47cdbd70c5330ee0cecf'], 'model_name': None, 'job_error': None}\n",
      "{'status': 'Complete', 'starttime': '2019-04-17T16:53:20.696965', 'endtime': '2019-04-17T16:53:22.248102', 'percent_complete': 100, 'job_type': 'CleanDataTiny', 'loss': None, 'generations': None, 'dataset_names': ['all_test.csv'], 'artifact_names': ['1a0810e8304d47cdbd70c5330ee0cecf'], 'model_name': None, 'job_error': ''}\n"
     ]
    }
   ],
   "source": [
    "# clean test dataset\n",
    "status, job_id = ds.clean_data(\"all_test.csv\", target = target, model_name = model)\n",
    "\n",
    "if status:\n",
    "    ds.wait_for_job(job_id['job_name'])\n",
    "else:\n",
    "    print(job_id)"
   ]
  },
  {
   "cell_type": "markdown",
   "metadata": {},
   "source": [
    "Run model on test dataset."
   ]
  },
  {
   "cell_type": "code",
   "execution_count": 65,
   "metadata": {
    "scrolled": true
   },
   "outputs": [
    {
     "name": "stdout",
     "output_type": "stream",
     "text": [
      "{'status': 'Complete', 'starttime': '2019-04-17T16:53:52.529324', 'endtime': '2019-04-17T16:53:53.643173', 'percent_complete': 100, 'job_type': 'RunModel', 'loss': 0.39123573899269104, 'generations': 5, 'dataset_names': ['all_test.csv'], 'artifact_names': ['ff6e63942c7740bcba7ff7cdb84fc0a9'], 'model_name': 'highriskalldatamodel20190417160239', 'job_error': ''}\n"
     ]
    },
    {
     "data": {
      "text/plain": [
       "(True, 'Job completed')"
      ]
     },
     "execution_count": 65,
     "metadata": {},
     "output_type": "execute_result"
    }
   ],
   "source": [
    "status, artifact = ds.run_model(\"all_test.csv\", model)\n",
    "sleep(1)\n",
    "ds.wait_for_job(artifact['job_name'])"
   ]
  },
  {
   "cell_type": "markdown",
   "metadata": {},
   "source": [
    "Create plots comparing predictions with actual target"
   ]
  },
  {
   "cell_type": "code",
   "execution_count": 67,
   "metadata": {},
   "outputs": [
    {
     "name": "stdout",
     "output_type": "stream",
     "text": [
      "             precision    recall  f1-score   support\n",
      "\n",
      "         No       0.89      0.99      0.93      1293\n",
      "        Yes       0.99      0.88      0.93      1298\n",
      "\n",
      "avg / total       0.94      0.93      0.93      2591\n",
      "\n"
     ]
    },
    {
     "data": {
      "image/png": "[encoded data removed]",
      "text/plain": [
       "<Figure size 432x288 with 1 Axes>"
      ]
     },
     "metadata": {},
     "output_type": "display_data"
    }
   ],
   "source": [
    "# Create plots comparing predictions with actual target\n",
    "status, prediction = ds.download_artifact(artifact['artifact_name'])\n",
    "df = pd.read_csv(os.path.join(PATH_TO_DATASET, \"all_test.csv\"))\n",
    "unq = prediction[target].unique()[::-1]\n",
    "p = np.zeros((len(prediction),))\n",
    "a = np.zeros((len(prediction),))\n",
    "for i,q in enumerate(unq):\n",
    "    p += i*(prediction[target] == q).values\n",
    "    a += i*(df[target] == q).values\n",
    "#Plot predictions vs actual\n",
    "plt.plot(a)\n",
    "plt.plot(p)\n",
    "plt.legend(['Actual','Predicted'])\n",
    "plt.yticks([i for i in range(len(unq))],[q for q in unq]);\n",
    "print(classification_report(df[target], prediction[target]))"
   ]
  },
  {
   "cell_type": "code",
   "execution_count": 68,
   "metadata": {},
   "outputs": [
    {
     "name": "stdout",
     "output_type": "stream",
     "text": [
      "{'type': 'XGBClassifier', 'parameters': {}}\n"
     ]
    }
   ],
   "source": [
    "status, model_type = ds.lookup_model_name(model)\n",
    "print(model_type['description']['best_genome'])"
   ]
  },
  {
   "cell_type": "markdown",
   "metadata": {},
   "source": [
    "## MODEL1: Find out which machine learning model did Darwin use:"
   ]
  },
  {
   "cell_type": "code",
   "execution_count": 68,
   "metadata": {},
   "outputs": [
    {
     "name": "stdout",
     "output_type": "stream",
     "text": [
      "{'type': 'XGBClassifier', 'parameters': {}}\n"
     ]
    }
   ],
   "source": [
    "status, model_type = ds.lookup_model_name(model)\n",
    "print(model_type['description']['best_genome'])"
   ]
  },
  {
   "cell_type": "markdown",
   "metadata": {},
   "source": [
    "# MODEL2: Data Upload and Clean"
   ]
  },
  {
   "cell_type": "markdown",
   "metadata": {},
   "source": [
    "**Read dataset and view a file snippet**"
   ]
  },
  {
   "cell_type": "code",
   "execution_count": 70,
   "metadata": {
    "scrolled": true
   },
   "outputs": [
    {
     "data": {
      "text/html": [
       "<div>\n",
       "<style scoped>\n",
       "    .dataframe tbody tr th:only-of-type {\n",
       "        vertical-align: middle;\n",
       "    }\n",
       "\n",
       "    .dataframe tbody tr th {\n",
       "        vertical-align: top;\n",
       "    }\n",
       "\n",
       "    .dataframe thead th {\n",
       "        text-align: right;\n",
       "    }\n",
       "</style>\n",
       "<table border=\"1\" class=\"dataframe\">\n",
       "  <thead>\n",
       "    <tr style=\"text-align: right;\">\n",
       "      <th></th>\n",
       "      <th>Unnamed: 0</th>\n",
       "      <th>age</th>\n",
       "      <th>sex</th>\n",
       "      <th>education</th>\n",
       "      <th>marital_status</th>\n",
       "      <th>occupation</th>\n",
       "      <th>bg_mgdl</th>\n",
       "      <th>bmi</th>\n",
       "      <th>smoking</th>\n",
       "      <th>village</th>\n",
       "      <th>areas</th>\n",
       "      <th>highrisk</th>\n",
       "    </tr>\n",
       "  </thead>\n",
       "  <tbody>\n",
       "    <tr>\n",
       "      <th>0</th>\n",
       "      <td>4485</td>\n",
       "      <td>65</td>\n",
       "      <td>Male</td>\n",
       "      <td>secondary</td>\n",
       "      <td>married</td>\n",
       "      <td>not working</td>\n",
       "      <td>123.0</td>\n",
       "      <td>24.16327</td>\n",
       "      <td>smoker</td>\n",
       "      <td>cepokomulyo</td>\n",
       "      <td>urban</td>\n",
       "      <td>Yes</td>\n",
       "    </tr>\n",
       "    <tr>\n",
       "      <th>1</th>\n",
       "      <td>9869</td>\n",
       "      <td>54</td>\n",
       "      <td>Male</td>\n",
       "      <td>primary</td>\n",
       "      <td>married</td>\n",
       "      <td>casual worker</td>\n",
       "      <td>124.0</td>\n",
       "      <td>24.45606</td>\n",
       "      <td>pastsmoker</td>\n",
       "      <td>majangtengah</td>\n",
       "      <td>rural</td>\n",
       "      <td>Yes</td>\n",
       "    </tr>\n",
       "    <tr>\n",
       "      <th>2</th>\n",
       "      <td>13412</td>\n",
       "      <td>49</td>\n",
       "      <td>Female</td>\n",
       "      <td>primary</td>\n",
       "      <td>married</td>\n",
       "      <td>not working</td>\n",
       "      <td>285.0</td>\n",
       "      <td>24.83576</td>\n",
       "      <td>nonsmoker</td>\n",
       "      <td>sepanjang</td>\n",
       "      <td>rural</td>\n",
       "      <td>Yes</td>\n",
       "    </tr>\n",
       "    <tr>\n",
       "      <th>3</th>\n",
       "      <td>7483</td>\n",
       "      <td>50</td>\n",
       "      <td>Male</td>\n",
       "      <td>higher</td>\n",
       "      <td>married</td>\n",
       "      <td>private worker</td>\n",
       "      <td>157.0</td>\n",
       "      <td>26.57313</td>\n",
       "      <td>smoker</td>\n",
       "      <td>kepanjen</td>\n",
       "      <td>urban</td>\n",
       "      <td>No</td>\n",
       "    </tr>\n",
       "    <tr>\n",
       "      <th>4</th>\n",
       "      <td>19331</td>\n",
       "      <td>51</td>\n",
       "      <td>Male</td>\n",
       "      <td>primary</td>\n",
       "      <td>married</td>\n",
       "      <td>casual worker</td>\n",
       "      <td>97.0</td>\n",
       "      <td>24.03441</td>\n",
       "      <td>nonsmoker</td>\n",
       "      <td>sepanjang</td>\n",
       "      <td>rural</td>\n",
       "      <td>No</td>\n",
       "    </tr>\n",
       "  </tbody>\n",
       "</table>\n",
       "</div>"
      ],
      "text/plain": [
       "   Unnamed: 0  age     sex  education marital_status      occupation  bg_mgdl  \\\n",
       "0        4485   65    Male  secondary        married     not working    123.0   \n",
       "1        9869   54    Male    primary        married   casual worker    124.0   \n",
       "2       13412   49  Female    primary        married     not working    285.0   \n",
       "3        7483   50    Male     higher        married  private worker    157.0   \n",
       "4       19331   51    Male    primary        married   casual worker     97.0   \n",
       "\n",
       "        bmi     smoking       village  areas highrisk  \n",
       "0  24.16327      smoker   cepokomulyo  urban      Yes  \n",
       "1  24.45606  pastsmoker  majangtengah  rural      Yes  \n",
       "2  24.83576   nonsmoker     sepanjang  rural      Yes  \n",
       "3  26.57313      smoker      kepanjen  urban       No  \n",
       "4  24.03441   nonsmoker     sepanjang  rural       No  "
      ]
     },
     "execution_count": 70,
     "metadata": {},
     "output_type": "execute_result"
    }
   ],
   "source": [
    "# Preview dataset\n",
    "df = pd.read_csv(os.path.join(PATH_TO_DATASET, \"nobp_train.csv\"))\n",
    "df.head()"
   ]
  },
  {
   "cell_type": "markdown",
   "metadata": {},
   "source": [
    "**Upload dataset to Darwin**"
   ]
  },
  {
   "cell_type": "code",
   "execution_count": 71,
   "metadata": {
    "scrolled": true
   },
   "outputs": [],
   "source": [
    "# Upload dataset\n",
    "status, dataset = ds.upload_dataset(os.path.join(PATH_TO_DATASET, \"nobp_train.csv\"))\n",
    "if not status:\n",
    "    print(dataset)"
   ]
  },
  {
   "cell_type": "markdown",
   "metadata": {},
   "source": [
    "**Clean dataset**"
   ]
  },
  {
   "cell_type": "code",
   "execution_count": 72,
   "metadata": {},
   "outputs": [
    {
     "name": "stdout",
     "output_type": "stream",
     "text": [
      "{'status': 'Requested', 'starttime': '2019-04-17T17:03:23.661145', 'endtime': None, 'percent_complete': 0, 'job_type': 'CleanDataTiny', 'loss': None, 'generations': None, 'dataset_names': ['nobp_train.csv'], 'artifact_names': ['\"nobp_train_clean\"'], 'model_name': None, 'job_error': None}\n",
      "{'status': 'Failed', 'starttime': '2019-04-17T17:03:23.661145', 'endtime': '2019-04-17T17:03:32.612522', 'percent_complete': 100, 'job_type': 'CleanDataTiny', 'loss': None, 'generations': None, 'dataset_names': ['nobp_train.csv'], 'artifact_names': ['\"nobp_train_clean\"'], 'model_name': None, 'job_error': 'DarwinInternalErroruncaught'}\n"
     ]
    }
   ],
   "source": [
    "# clean dataset\n",
    "target = \"highrisk\"\n",
    "status, job_id = ds.clean_data(\"nobp_train.csv\", target = target, artifact_name = '\"nobp_train_clean\"')\n",
    "\n",
    "if status:\n",
    "    ds.wait_for_job(job_id['job_name'])\n",
    "else:\n",
    "    print(job_id)\n",
    "#ds.lookup_artifact_name()\n",
    "#ds.download_dataset('SHclean_data',artifact_path='../../sets/')\n"
   ]
  },
  {
   "cell_type": "code",
   "execution_count": null,
   "metadata": {},
   "outputs": [],
   "source": []
  },
  {
   "cell_type": "markdown",
   "metadata": {},
   "source": [
    "# MODEL2: Create and Train Model "
   ]
  },
  {
   "cell_type": "markdown",
   "metadata": {},
   "source": [
    "We will now build a model that will learn the class labels in the target column.<br> In the default cancer dataset, the target column is \"Diagnosis\". <br> You will have to specify your own target name for your custom dataset. <br> You can also increase max_train_time for longer training.\n"
   ]
  },
  {
   "cell_type": "code",
   "execution_count": 73,
   "metadata": {
    "scrolled": false
   },
   "outputs": [
    {
     "name": "stdout",
     "output_type": "stream",
     "text": [
      "{'status': 'Requested', 'starttime': '2019-04-17T17:04:11.294701', 'endtime': None, 'percent_complete': 0, 'job_type': 'TrainModel', 'loss': None, 'generations': 0, 'dataset_names': ['nobp_train.csv'], 'artifact_names': None, 'model_name': 'highrisknobpdatamodel20190417160239', 'job_error': None}\n",
      "{'status': 'Requested', 'starttime': '2019-04-17T17:04:11.294701', 'endtime': None, 'percent_complete': 0, 'job_type': 'TrainModel', 'loss': None, 'generations': 0, 'dataset_names': ['nobp_train.csv'], 'artifact_names': None, 'model_name': 'highrisknobpdatamodel20190417160239', 'job_error': None}\n",
      "{'status': 'Requested', 'starttime': '2019-04-17T17:04:11.294701', 'endtime': None, 'percent_complete': 0, 'job_type': 'TrainModel', 'loss': None, 'generations': 0, 'dataset_names': ['nobp_train.csv'], 'artifact_names': None, 'model_name': 'highrisknobpdatamodel20190417160239', 'job_error': None}\n",
      "{'status': 'Running', 'starttime': '2019-04-17T17:04:11.294701', 'endtime': None, 'percent_complete': 2, 'job_type': 'TrainModel', 'loss': 0.6467217206954956, 'generations': 1, 'dataset_names': ['nobp_train.csv'], 'artifact_names': None, 'model_name': 'highrisknobpdatamodel20190417160239', 'job_error': ''}\n",
      "{'status': 'Running', 'starttime': '2019-04-17T17:04:11.294701', 'endtime': None, 'percent_complete': 6, 'job_type': 'TrainModel', 'loss': 0.6467217206954956, 'generations': 2, 'dataset_names': ['nobp_train.csv'], 'artifact_names': None, 'model_name': 'highrisknobpdatamodel20190417160239', 'job_error': ''}\n",
      "{'status': 'Running', 'starttime': '2019-04-17T17:04:11.294701', 'endtime': None, 'percent_complete': 6, 'job_type': 'TrainModel', 'loss': 0.6467217206954956, 'generations': 2, 'dataset_names': ['nobp_train.csv'], 'artifact_names': None, 'model_name': 'highrisknobpdatamodel20190417160239', 'job_error': ''}\n",
      "{'status': 'Running', 'starttime': '2019-04-17T17:04:11.294701', 'endtime': None, 'percent_complete': 6, 'job_type': 'TrainModel', 'loss': 0.6467217206954956, 'generations': 2, 'dataset_names': ['nobp_train.csv'], 'artifact_names': None, 'model_name': 'highrisknobpdatamodel20190417160239', 'job_error': ''}\n",
      "{'status': 'Running', 'starttime': '2019-04-17T17:04:11.294701', 'endtime': None, 'percent_complete': 6, 'job_type': 'TrainModel', 'loss': 0.6467217206954956, 'generations': 2, 'dataset_names': ['nobp_train.csv'], 'artifact_names': None, 'model_name': 'highrisknobpdatamodel20190417160239', 'job_error': ''}\n",
      "{'status': 'Running', 'starttime': '2019-04-17T17:04:11.294701', 'endtime': None, 'percent_complete': 6, 'job_type': 'TrainModel', 'loss': 0.6467217206954956, 'generations': 2, 'dataset_names': ['nobp_train.csv'], 'artifact_names': None, 'model_name': 'highrisknobpdatamodel20190417160239', 'job_error': ''}\n",
      "{'status': 'Running', 'starttime': '2019-04-17T17:04:11.294701', 'endtime': None, 'percent_complete': 6, 'job_type': 'TrainModel', 'loss': 0.6467217206954956, 'generations': 2, 'dataset_names': ['nobp_train.csv'], 'artifact_names': None, 'model_name': 'highrisknobpdatamodel20190417160239', 'job_error': ''}\n",
      "{'status': 'Running', 'starttime': '2019-04-17T17:04:11.294701', 'endtime': None, 'percent_complete': 33, 'job_type': 'TrainModel', 'loss': 0.6207813686794705, 'generations': 2, 'dataset_names': ['nobp_train.csv'], 'artifact_names': None, 'model_name': 'highrisknobpdatamodel20190417160239', 'job_error': ''}\n",
      "{'status': 'Running', 'starttime': '2019-04-17T17:04:11.294701', 'endtime': None, 'percent_complete': 33, 'job_type': 'TrainModel', 'loss': 0.6207813686794705, 'generations': 2, 'dataset_names': ['nobp_train.csv'], 'artifact_names': None, 'model_name': 'highrisknobpdatamodel20190417160239', 'job_error': ''}\n",
      "{'status': 'Complete', 'starttime': '2019-04-17T17:04:11.294701', 'endtime': '2019-04-17T17:07:00.271017', 'percent_complete': 100, 'job_type': 'TrainModel', 'loss': 0.6207813686794705, 'generations': 2, 'dataset_names': ['nobp_train.csv'], 'artifact_names': None, 'model_name': 'highrisknobpdatamodel20190417160239', 'job_error': ''}\n"
     ]
    }
   ],
   "source": [
    "model = target + \"nobpdatamodel\" + ts\n",
    "status, job_id = ds.create_model(dataset_names = \"nobp_train.csv\", \\\n",
    "                                 model_name =  model, \\\n",
    "                                 max_train_time = '00:02')\n",
    "if status:\n",
    "    ds.wait_for_job(job_id['job_name'])\n",
    "else:\n",
    "    print(job_id)"
   ]
  },
  {
   "cell_type": "markdown",
   "metadata": {},
   "source": [
    "# MODEL2: Extra Training (Optional)\n",
    "Run the following cell for extra training, no need to specify parameters"
   ]
  },
  {
   "cell_type": "code",
   "execution_count": 74,
   "metadata": {},
   "outputs": [
    {
     "name": "stdout",
     "output_type": "stream",
     "text": [
      "{'status': 'Requested', 'starttime': '2019-04-17T17:07:32.839021', 'endtime': None, 'percent_complete': 0, 'job_type': 'UpdateModel', 'loss': 0.6207813686794705, 'generations': 2, 'dataset_names': ['nobp_train.csv'], 'artifact_names': None, 'model_name': 'highrisknobpdatamodel20190417160239', 'job_error': None}\n",
      "{'status': 'Running', 'starttime': '2019-04-17T17:07:32.839021', 'endtime': None, 'percent_complete': 4, 'job_type': 'UpdateModel', 'loss': 0.6207813686794705, 'generations': 5, 'dataset_names': ['nobp_train.csv'], 'artifact_names': None, 'model_name': 'highrisknobpdatamodel20190417160239', 'job_error': ''}\n",
      "{'status': 'Running', 'starttime': '2019-04-17T17:07:32.839021', 'endtime': None, 'percent_complete': 4, 'job_type': 'UpdateModel', 'loss': 0.6207813686794705, 'generations': 5, 'dataset_names': ['nobp_train.csv'], 'artifact_names': None, 'model_name': 'highrisknobpdatamodel20190417160239', 'job_error': ''}\n",
      "{'status': 'Running', 'starttime': '2019-04-17T17:07:32.839021', 'endtime': None, 'percent_complete': 4, 'job_type': 'UpdateModel', 'loss': 0.6207813686794705, 'generations': 5, 'dataset_names': ['nobp_train.csv'], 'artifact_names': None, 'model_name': 'highrisknobpdatamodel20190417160239', 'job_error': ''}\n",
      "{'status': 'Running', 'starttime': '2019-04-17T17:07:32.839021', 'endtime': None, 'percent_complete': 4, 'job_type': 'UpdateModel', 'loss': 0.6207813686794705, 'generations': 5, 'dataset_names': ['nobp_train.csv'], 'artifact_names': None, 'model_name': 'highrisknobpdatamodel20190417160239', 'job_error': ''}\n",
      "{'status': 'Running', 'starttime': '2019-04-17T17:07:32.839021', 'endtime': None, 'percent_complete': 4, 'job_type': 'UpdateModel', 'loss': 0.6207813686794705, 'generations': 5, 'dataset_names': ['nobp_train.csv'], 'artifact_names': None, 'model_name': 'highrisknobpdatamodel20190417160239', 'job_error': ''}\n",
      "{'status': 'Running', 'starttime': '2019-04-17T17:07:32.839021', 'endtime': None, 'percent_complete': 33, 'job_type': 'UpdateModel', 'loss': 0.6231648723284403, 'generations': 5, 'dataset_names': ['nobp_train.csv'], 'artifact_names': None, 'model_name': 'highrisknobpdatamodel20190417160239', 'job_error': ''}\n",
      "{'status': 'Running', 'starttime': '2019-04-17T17:07:32.839021', 'endtime': None, 'percent_complete': 33, 'job_type': 'UpdateModel', 'loss': 0.6231648723284403, 'generations': 5, 'dataset_names': ['nobp_train.csv'], 'artifact_names': None, 'model_name': 'highrisknobpdatamodel20190417160239', 'job_error': ''}\n",
      "{'status': 'Running', 'starttime': '2019-04-17T17:07:32.839021', 'endtime': None, 'percent_complete': 50, 'job_type': 'UpdateModel', 'loss': 0.6231648723284403, 'generations': 5, 'dataset_names': ['nobp_train.csv'], 'artifact_names': None, 'model_name': 'highrisknobpdatamodel20190417160239', 'job_error': ''}\n",
      "{'status': 'Complete', 'starttime': '2019-04-17T17:07:32.839021', 'endtime': '2019-04-17T17:09:39.344222', 'percent_complete': 100, 'job_type': 'UpdateModel', 'loss': 0.6231648723284403, 'generations': 5, 'dataset_names': ['nobp_train.csv'], 'artifact_names': None, 'model_name': 'highrisknobpdatamodel20190417160239', 'job_error': ''}\n"
     ]
    }
   ],
   "source": [
    "# Train some more\n",
    "status, job_id = ds.resume_training_model(dataset_names = \"nobp_train.csv\",\n",
    "                                          model_name = model,\n",
    "                                          max_train_time = '00:02')\n",
    "                                          \n",
    "if status:\n",
    "    ds.wait_for_job(job_id['job_name'])\n",
    "else:\n",
    "    print(job_id)"
   ]
  },
  {
   "cell_type": "markdown",
   "metadata": {},
   "source": [
    "# MODEL2: Analyze Model\n",
    "Analyze model provides feature importance ranked by the model. <br> It indicates a general view of which features pose a bigger impact on the model"
   ]
  },
  {
   "cell_type": "code",
   "execution_count": 77,
   "metadata": {
    "scrolled": false
   },
   "outputs": [
    {
     "name": "stdout",
     "output_type": "stream",
     "text": [
      "{'status': 'Running', 'starttime': '2019-04-17T17:12:35.739497', 'endtime': None, 'percent_complete': 0, 'job_type': 'AnalyzeModel', 'loss': 0.6231648723284403, 'generations': 5, 'dataset_names': None, 'artifact_names': ['389fb9e9d8454e49ac4ec7f5b7cff315'], 'model_name': 'highrisknobpdatamodel20190417160239', 'job_error': ''}\n",
      "{'status': 'Complete', 'starttime': '2019-04-17T17:12:35.739497', 'endtime': '2019-04-17T17:12:37.100027', 'percent_complete': 100, 'job_type': 'AnalyzeModel', 'loss': 0.6231648723284403, 'generations': 5, 'dataset_names': None, 'artifact_names': ['389fb9e9d8454e49ac4ec7f5b7cff315'], 'model_name': 'highrisknobpdatamodel20190417160239', 'job_error': ''}\n"
     ]
    }
   ],
   "source": [
    "# Retrieve feature importance of built model\n",
    "status, artifact = ds.analyze_model(model)\n",
    "sleep(1)\n",
    "if status:\n",
    "    ds.wait_for_job(artifact['job_name'])\n",
    "else:\n",
    "    print(artifact)\n",
    "status, feature_importance = ds.download_artifact(artifact['artifact_name'])"
   ]
  },
  {
   "cell_type": "markdown",
   "metadata": {},
   "source": [
    "Show the 10 most important features of the model."
   ]
  },
  {
   "cell_type": "code",
   "execution_count": 78,
   "metadata": {},
   "outputs": [
    {
     "data": {
      "text/plain": [
       "age                            0.336398\n",
       "bmi                            0.209389\n",
       "bg_mgdl                        0.126739\n",
       "occupation = not working       0.072209\n",
       "Unnamed: 0                     0.062562\n",
       "smoking = smoker               0.045952\n",
       "occupation = private worker    0.016064\n",
       "smoking = pastsmoker           0.014762\n",
       "sex = Male                     0.014321\n",
       "marital_status = widowed       0.014219\n",
       "dtype: float64"
      ]
     },
     "execution_count": 78,
     "metadata": {},
     "output_type": "execute_result"
    }
   ],
   "source": [
    "feature_importance[:10]"
   ]
  },
  {
   "cell_type": "markdown",
   "metadata": {},
   "source": [
    "# MODEL2: Predictions\n",
    "**Perform model prediction on the the training dataset.**"
   ]
  },
  {
   "cell_type": "code",
   "execution_count": 79,
   "metadata": {
    "scrolled": true
   },
   "outputs": [
    {
     "name": "stdout",
     "output_type": "stream",
     "text": [
      "{'status': 'Complete', 'starttime': '2019-04-17T17:13:22.175182', 'endtime': '2019-04-17T17:13:23.17517', 'percent_complete': 100, 'job_type': 'RunModel', 'loss': 0.6231648723284403, 'generations': 5, 'dataset_names': ['nobp_train.csv'], 'artifact_names': ['6ffb2db7ba684ae7b6571180417d96d8'], 'model_name': 'highrisknobpdatamodel20190417160239', 'job_error': ''}\n"
     ]
    },
    {
     "data": {
      "text/plain": [
       "(True, 'Job completed')"
      ]
     },
     "execution_count": 79,
     "metadata": {},
     "output_type": "execute_result"
    }
   ],
   "source": [
    "status, artifact = ds.run_model(\"nobp_train.csv\", model)\n",
    "sleep(1)\n",
    "ds.wait_for_job(artifact['job_name'])"
   ]
  },
  {
   "cell_type": "markdown",
   "metadata": {},
   "source": [
    "Download predictions from Darwin's server."
   ]
  },
  {
   "cell_type": "code",
   "execution_count": 80,
   "metadata": {
    "scrolled": true
   },
   "outputs": [
    {
     "data": {
      "text/html": [
       "<div>\n",
       "<style scoped>\n",
       "    .dataframe tbody tr th:only-of-type {\n",
       "        vertical-align: middle;\n",
       "    }\n",
       "\n",
       "    .dataframe tbody tr th {\n",
       "        vertical-align: top;\n",
       "    }\n",
       "\n",
       "    .dataframe thead th {\n",
       "        text-align: right;\n",
       "    }\n",
       "</style>\n",
       "<table border=\"1\" class=\"dataframe\">\n",
       "  <thead>\n",
       "    <tr style=\"text-align: right;\">\n",
       "      <th></th>\n",
       "      <th>highrisk</th>\n",
       "      <th>prob_No</th>\n",
       "      <th>prob_Yes</th>\n",
       "    </tr>\n",
       "  </thead>\n",
       "  <tbody>\n",
       "    <tr>\n",
       "      <th>0</th>\n",
       "      <td>Yes</td>\n",
       "      <td>0.359046</td>\n",
       "      <td>0.640954</td>\n",
       "    </tr>\n",
       "    <tr>\n",
       "      <th>1</th>\n",
       "      <td>Yes</td>\n",
       "      <td>0.475236</td>\n",
       "      <td>0.524764</td>\n",
       "    </tr>\n",
       "    <tr>\n",
       "      <th>2</th>\n",
       "      <td>Yes</td>\n",
       "      <td>0.353216</td>\n",
       "      <td>0.646784</td>\n",
       "    </tr>\n",
       "    <tr>\n",
       "      <th>3</th>\n",
       "      <td>No</td>\n",
       "      <td>0.523203</td>\n",
       "      <td>0.476797</td>\n",
       "    </tr>\n",
       "    <tr>\n",
       "      <th>4</th>\n",
       "      <td>No</td>\n",
       "      <td>0.633620</td>\n",
       "      <td>0.366380</td>\n",
       "    </tr>\n",
       "    <tr>\n",
       "      <th>5</th>\n",
       "      <td>Yes</td>\n",
       "      <td>0.414345</td>\n",
       "      <td>0.585655</td>\n",
       "    </tr>\n",
       "    <tr>\n",
       "      <th>6</th>\n",
       "      <td>No</td>\n",
       "      <td>0.755871</td>\n",
       "      <td>0.244129</td>\n",
       "    </tr>\n",
       "    <tr>\n",
       "      <th>7</th>\n",
       "      <td>Yes</td>\n",
       "      <td>0.205396</td>\n",
       "      <td>0.794604</td>\n",
       "    </tr>\n",
       "    <tr>\n",
       "      <th>8</th>\n",
       "      <td>No</td>\n",
       "      <td>0.519699</td>\n",
       "      <td>0.480301</td>\n",
       "    </tr>\n",
       "    <tr>\n",
       "      <th>9</th>\n",
       "      <td>No</td>\n",
       "      <td>0.652784</td>\n",
       "      <td>0.347216</td>\n",
       "    </tr>\n",
       "    <tr>\n",
       "      <th>10</th>\n",
       "      <td>Yes</td>\n",
       "      <td>0.324369</td>\n",
       "      <td>0.675631</td>\n",
       "    </tr>\n",
       "    <tr>\n",
       "      <th>11</th>\n",
       "      <td>Yes</td>\n",
       "      <td>0.367763</td>\n",
       "      <td>0.632237</td>\n",
       "    </tr>\n",
       "    <tr>\n",
       "      <th>12</th>\n",
       "      <td>No</td>\n",
       "      <td>0.548725</td>\n",
       "      <td>0.451275</td>\n",
       "    </tr>\n",
       "    <tr>\n",
       "      <th>13</th>\n",
       "      <td>No</td>\n",
       "      <td>0.601764</td>\n",
       "      <td>0.398236</td>\n",
       "    </tr>\n",
       "    <tr>\n",
       "      <th>14</th>\n",
       "      <td>No</td>\n",
       "      <td>0.654439</td>\n",
       "      <td>0.345561</td>\n",
       "    </tr>\n",
       "    <tr>\n",
       "      <th>15</th>\n",
       "      <td>Yes</td>\n",
       "      <td>0.290093</td>\n",
       "      <td>0.709907</td>\n",
       "    </tr>\n",
       "    <tr>\n",
       "      <th>16</th>\n",
       "      <td>Yes</td>\n",
       "      <td>0.214308</td>\n",
       "      <td>0.785692</td>\n",
       "    </tr>\n",
       "    <tr>\n",
       "      <th>17</th>\n",
       "      <td>No</td>\n",
       "      <td>0.579388</td>\n",
       "      <td>0.420612</td>\n",
       "    </tr>\n",
       "    <tr>\n",
       "      <th>18</th>\n",
       "      <td>Yes</td>\n",
       "      <td>0.349056</td>\n",
       "      <td>0.650944</td>\n",
       "    </tr>\n",
       "    <tr>\n",
       "      <th>19</th>\n",
       "      <td>Yes</td>\n",
       "      <td>0.384445</td>\n",
       "      <td>0.615555</td>\n",
       "    </tr>\n",
       "    <tr>\n",
       "      <th>20</th>\n",
       "      <td>No</td>\n",
       "      <td>0.525256</td>\n",
       "      <td>0.474744</td>\n",
       "    </tr>\n",
       "    <tr>\n",
       "      <th>21</th>\n",
       "      <td>Yes</td>\n",
       "      <td>0.235179</td>\n",
       "      <td>0.764821</td>\n",
       "    </tr>\n",
       "    <tr>\n",
       "      <th>22</th>\n",
       "      <td>No</td>\n",
       "      <td>0.616248</td>\n",
       "      <td>0.383752</td>\n",
       "    </tr>\n",
       "    <tr>\n",
       "      <th>23</th>\n",
       "      <td>Yes</td>\n",
       "      <td>0.261942</td>\n",
       "      <td>0.738058</td>\n",
       "    </tr>\n",
       "    <tr>\n",
       "      <th>24</th>\n",
       "      <td>No</td>\n",
       "      <td>0.747182</td>\n",
       "      <td>0.252818</td>\n",
       "    </tr>\n",
       "    <tr>\n",
       "      <th>25</th>\n",
       "      <td>Yes</td>\n",
       "      <td>0.206114</td>\n",
       "      <td>0.793886</td>\n",
       "    </tr>\n",
       "    <tr>\n",
       "      <th>26</th>\n",
       "      <td>Yes</td>\n",
       "      <td>0.494779</td>\n",
       "      <td>0.505221</td>\n",
       "    </tr>\n",
       "    <tr>\n",
       "      <th>27</th>\n",
       "      <td>No</td>\n",
       "      <td>0.597911</td>\n",
       "      <td>0.402089</td>\n",
       "    </tr>\n",
       "    <tr>\n",
       "      <th>28</th>\n",
       "      <td>No</td>\n",
       "      <td>0.511592</td>\n",
       "      <td>0.488408</td>\n",
       "    </tr>\n",
       "    <tr>\n",
       "      <th>29</th>\n",
       "      <td>Yes</td>\n",
       "      <td>0.460173</td>\n",
       "      <td>0.539827</td>\n",
       "    </tr>\n",
       "    <tr>\n",
       "      <th>...</th>\n",
       "      <td>...</td>\n",
       "      <td>...</td>\n",
       "      <td>...</td>\n",
       "    </tr>\n",
       "    <tr>\n",
       "      <th>70</th>\n",
       "      <td>No</td>\n",
       "      <td>0.683506</td>\n",
       "      <td>0.316494</td>\n",
       "    </tr>\n",
       "    <tr>\n",
       "      <th>71</th>\n",
       "      <td>No</td>\n",
       "      <td>0.634449</td>\n",
       "      <td>0.365551</td>\n",
       "    </tr>\n",
       "    <tr>\n",
       "      <th>72</th>\n",
       "      <td>No</td>\n",
       "      <td>0.728215</td>\n",
       "      <td>0.271785</td>\n",
       "    </tr>\n",
       "    <tr>\n",
       "      <th>73</th>\n",
       "      <td>No</td>\n",
       "      <td>0.780104</td>\n",
       "      <td>0.219896</td>\n",
       "    </tr>\n",
       "    <tr>\n",
       "      <th>74</th>\n",
       "      <td>Yes</td>\n",
       "      <td>0.230426</td>\n",
       "      <td>0.769574</td>\n",
       "    </tr>\n",
       "    <tr>\n",
       "      <th>75</th>\n",
       "      <td>No</td>\n",
       "      <td>0.625217</td>\n",
       "      <td>0.374783</td>\n",
       "    </tr>\n",
       "    <tr>\n",
       "      <th>76</th>\n",
       "      <td>Yes</td>\n",
       "      <td>0.318351</td>\n",
       "      <td>0.681649</td>\n",
       "    </tr>\n",
       "    <tr>\n",
       "      <th>77</th>\n",
       "      <td>Yes</td>\n",
       "      <td>0.356917</td>\n",
       "      <td>0.643083</td>\n",
       "    </tr>\n",
       "    <tr>\n",
       "      <th>78</th>\n",
       "      <td>No</td>\n",
       "      <td>0.747859</td>\n",
       "      <td>0.252141</td>\n",
       "    </tr>\n",
       "    <tr>\n",
       "      <th>79</th>\n",
       "      <td>No</td>\n",
       "      <td>0.625357</td>\n",
       "      <td>0.374643</td>\n",
       "    </tr>\n",
       "    <tr>\n",
       "      <th>80</th>\n",
       "      <td>No</td>\n",
       "      <td>0.661288</td>\n",
       "      <td>0.338712</td>\n",
       "    </tr>\n",
       "    <tr>\n",
       "      <th>81</th>\n",
       "      <td>Yes</td>\n",
       "      <td>0.241774</td>\n",
       "      <td>0.758226</td>\n",
       "    </tr>\n",
       "    <tr>\n",
       "      <th>82</th>\n",
       "      <td>No</td>\n",
       "      <td>0.665919</td>\n",
       "      <td>0.334081</td>\n",
       "    </tr>\n",
       "    <tr>\n",
       "      <th>83</th>\n",
       "      <td>Yes</td>\n",
       "      <td>0.220378</td>\n",
       "      <td>0.779622</td>\n",
       "    </tr>\n",
       "    <tr>\n",
       "      <th>84</th>\n",
       "      <td>Yes</td>\n",
       "      <td>0.315702</td>\n",
       "      <td>0.684298</td>\n",
       "    </tr>\n",
       "    <tr>\n",
       "      <th>85</th>\n",
       "      <td>Yes</td>\n",
       "      <td>0.465331</td>\n",
       "      <td>0.534669</td>\n",
       "    </tr>\n",
       "    <tr>\n",
       "      <th>86</th>\n",
       "      <td>Yes</td>\n",
       "      <td>0.385905</td>\n",
       "      <td>0.614095</td>\n",
       "    </tr>\n",
       "    <tr>\n",
       "      <th>87</th>\n",
       "      <td>Yes</td>\n",
       "      <td>0.253442</td>\n",
       "      <td>0.746558</td>\n",
       "    </tr>\n",
       "    <tr>\n",
       "      <th>88</th>\n",
       "      <td>No</td>\n",
       "      <td>0.645690</td>\n",
       "      <td>0.354310</td>\n",
       "    </tr>\n",
       "    <tr>\n",
       "      <th>89</th>\n",
       "      <td>No</td>\n",
       "      <td>0.635987</td>\n",
       "      <td>0.364013</td>\n",
       "    </tr>\n",
       "    <tr>\n",
       "      <th>90</th>\n",
       "      <td>Yes</td>\n",
       "      <td>0.416038</td>\n",
       "      <td>0.583962</td>\n",
       "    </tr>\n",
       "    <tr>\n",
       "      <th>91</th>\n",
       "      <td>Yes</td>\n",
       "      <td>0.412461</td>\n",
       "      <td>0.587539</td>\n",
       "    </tr>\n",
       "    <tr>\n",
       "      <th>92</th>\n",
       "      <td>No</td>\n",
       "      <td>0.660555</td>\n",
       "      <td>0.339445</td>\n",
       "    </tr>\n",
       "    <tr>\n",
       "      <th>93</th>\n",
       "      <td>No</td>\n",
       "      <td>0.652911</td>\n",
       "      <td>0.347089</td>\n",
       "    </tr>\n",
       "    <tr>\n",
       "      <th>94</th>\n",
       "      <td>Yes</td>\n",
       "      <td>0.269286</td>\n",
       "      <td>0.730714</td>\n",
       "    </tr>\n",
       "    <tr>\n",
       "      <th>95</th>\n",
       "      <td>Yes</td>\n",
       "      <td>0.465641</td>\n",
       "      <td>0.534359</td>\n",
       "    </tr>\n",
       "    <tr>\n",
       "      <th>96</th>\n",
       "      <td>Yes</td>\n",
       "      <td>0.281406</td>\n",
       "      <td>0.718594</td>\n",
       "    </tr>\n",
       "    <tr>\n",
       "      <th>97</th>\n",
       "      <td>No</td>\n",
       "      <td>0.770786</td>\n",
       "      <td>0.229214</td>\n",
       "    </tr>\n",
       "    <tr>\n",
       "      <th>98</th>\n",
       "      <td>Yes</td>\n",
       "      <td>0.471011</td>\n",
       "      <td>0.528989</td>\n",
       "    </tr>\n",
       "    <tr>\n",
       "      <th>99</th>\n",
       "      <td>Yes</td>\n",
       "      <td>0.349485</td>\n",
       "      <td>0.650515</td>\n",
       "    </tr>\n",
       "  </tbody>\n",
       "</table>\n",
       "<p>100 rows × 3 columns</p>\n",
       "</div>"
      ],
      "text/plain": [
       "   highrisk   prob_No  prob_Yes\n",
       "0       Yes  0.359046  0.640954\n",
       "1       Yes  0.475236  0.524764\n",
       "2       Yes  0.353216  0.646784\n",
       "3        No  0.523203  0.476797\n",
       "4        No  0.633620  0.366380\n",
       "5       Yes  0.414345  0.585655\n",
       "6        No  0.755871  0.244129\n",
       "7       Yes  0.205396  0.794604\n",
       "8        No  0.519699  0.480301\n",
       "9        No  0.652784  0.347216\n",
       "10      Yes  0.324369  0.675631\n",
       "11      Yes  0.367763  0.632237\n",
       "12       No  0.548725  0.451275\n",
       "13       No  0.601764  0.398236\n",
       "14       No  0.654439  0.345561\n",
       "15      Yes  0.290093  0.709907\n",
       "16      Yes  0.214308  0.785692\n",
       "17       No  0.579388  0.420612\n",
       "18      Yes  0.349056  0.650944\n",
       "19      Yes  0.384445  0.615555\n",
       "20       No  0.525256  0.474744\n",
       "21      Yes  0.235179  0.764821\n",
       "22       No  0.616248  0.383752\n",
       "23      Yes  0.261942  0.738058\n",
       "24       No  0.747182  0.252818\n",
       "25      Yes  0.206114  0.793886\n",
       "26      Yes  0.494779  0.505221\n",
       "27       No  0.597911  0.402089\n",
       "28       No  0.511592  0.488408\n",
       "29      Yes  0.460173  0.539827\n",
       "..      ...       ...       ...\n",
       "70       No  0.683506  0.316494\n",
       "71       No  0.634449  0.365551\n",
       "72       No  0.728215  0.271785\n",
       "73       No  0.780104  0.219896\n",
       "74      Yes  0.230426  0.769574\n",
       "75       No  0.625217  0.374783\n",
       "76      Yes  0.318351  0.681649\n",
       "77      Yes  0.356917  0.643083\n",
       "78       No  0.747859  0.252141\n",
       "79       No  0.625357  0.374643\n",
       "80       No  0.661288  0.338712\n",
       "81      Yes  0.241774  0.758226\n",
       "82       No  0.665919  0.334081\n",
       "83      Yes  0.220378  0.779622\n",
       "84      Yes  0.315702  0.684298\n",
       "85      Yes  0.465331  0.534669\n",
       "86      Yes  0.385905  0.614095\n",
       "87      Yes  0.253442  0.746558\n",
       "88       No  0.645690  0.354310\n",
       "89       No  0.635987  0.364013\n",
       "90      Yes  0.416038  0.583962\n",
       "91      Yes  0.412461  0.587539\n",
       "92       No  0.660555  0.339445\n",
       "93       No  0.652911  0.347089\n",
       "94      Yes  0.269286  0.730714\n",
       "95      Yes  0.465641  0.534359\n",
       "96      Yes  0.281406  0.718594\n",
       "97       No  0.770786  0.229214\n",
       "98      Yes  0.471011  0.528989\n",
       "99      Yes  0.349485  0.650515\n",
       "\n",
       "[100 rows x 3 columns]"
      ]
     },
     "execution_count": 80,
     "metadata": {},
     "output_type": "execute_result"
    }
   ],
   "source": [
    "status, prediction = ds.download_artifact(artifact['artifact_name'])\n",
    "prediction.head(100)"
   ]
  },
  {
   "cell_type": "markdown",
   "metadata": {},
   "source": [
    "Create plots comparing predictions with actual target"
   ]
  },
  {
   "cell_type": "code",
   "execution_count": 81,
   "metadata": {
    "scrolled": true
   },
   "outputs": [
    {
     "name": "stdout",
     "output_type": "stream",
     "text": [
      "             precision    recall  f1-score   support\n",
      "\n",
      "         No       0.67      0.61      0.64      5231\n",
      "        Yes       0.64      0.70      0.67      5131\n",
      "\n",
      "avg / total       0.66      0.65      0.65     10362\n",
      "\n"
     ]
    },
    {
     "data": {
      "image/png": "[encoded data removed]",
      "text/plain": [
       "<Figure size 432x288 with 1 Axes>"
      ]
     },
     "metadata": {},
     "output_type": "display_data"
    }
   ],
   "source": [
    "unq = prediction[target].unique()[::-1]\n",
    "p = np.zeros((len(prediction),))\n",
    "a = np.zeros((len(prediction),))\n",
    "for i,q in enumerate(unq):\n",
    "    p += i*(prediction[target] == q).values\n",
    "    a += i*(df[target] == q).values\n",
    "#Plot predictions vs actual\n",
    "plt.plot(a)\n",
    "plt.plot(p)\n",
    "plt.legend(['Actual','Predicted'])\n",
    "plt.yticks([i for i in range(len(unq))],[q for q in unq]);\n",
    "print(classification_report(df[target], prediction[target]))"
   ]
  },
  {
   "cell_type": "markdown",
   "metadata": {},
   "source": [
    "## Find out which machine learning model did Darwin use:"
   ]
  },
  {
   "cell_type": "code",
   "execution_count": 68,
   "metadata": {},
   "outputs": [
    {
     "name": "stdout",
     "output_type": "stream",
     "text": [
      "{'type': 'XGBClassifier', 'parameters': {}}\n"
     ]
    }
   ],
   "source": [
    "status, model_type = ds.lookup_model_name(model)\n",
    "print(model_type['description']['best_genome'])"
   ]
  }
 ],
 "metadata": {
  "anaconda-cloud": {},
  "kernelspec": {
   "display_name": "Python 3",
   "language": "python",
   "name": "python3"
  },
  "language_info": {
   "codemirror_mode": {
    "name": "ipython",
    "version": 3
   },
   "file_extension": ".py",
   "mimetype": "text/x-python",
   "name": "python",
   "nbconvert_exporter": "python",
   "pygments_lexer": "ipython3",
   "version": "3.7.3"
  }
 },
 "nbformat": 4,
 "nbformat_minor": 2
}
